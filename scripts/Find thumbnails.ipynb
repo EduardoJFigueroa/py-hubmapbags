{
 "cells": [
  {
   "cell_type": "markdown",
   "id": "96452de8-689b-4c02-bc08-8cb07d1cae25",
   "metadata": {},
   "source": [
    "# Finding thumbnails"
   ]
  },
  {
   "cell_type": "code",
   "execution_count": null,
   "id": "94a8e11f-b5d3-493f-b9a8-23086fd16781",
   "metadata": {},
   "outputs": [],
   "source": [
    "import pandas as pd\n",
    "from shutil import copytree\n",
    "from shutil import rmtree\n",
    "import hubmapbags\n",
    "import pathlib\n",
    "import json\n",
    "import yaml\n",
    "\n",
    "from pandarallel import pandarallel\n",
    "pandarallel.initialize(progress_bar=True, nb_workers=10)\n",
    "\n",
    "from pathlib import Path\n",
    "import pandas as pd\n",
    "from tqdm import tqdm\n",
    "from warnings import warn as warning\n",
    "from datetime import datetime\n",
    "from time import sleep\n",
    "\n",
    "instance = 'prod'\n",
    "token = ''"
   ]
  },
  {
   "cell_type": "code",
   "execution_count": null,
   "id": "f68c3abb-7199-407d-8f9b-d30e50f148b7",
   "metadata": {},
   "outputs": [],
   "source": [
    "now = datetime.now()\n",
    "output_directory = 'data'\n",
    "if not Path(output_directory).exists():\n",
    "    Path(output_directory).mkdir()\n",
    "\n",
    "report_output_directory = 'reports'\n",
    "if not Path(report_output_directory).exists():\n",
    "    Path(report_output_directory).mkdir()\n",
    "\n",
    "report_output_filename = report_output_directory + '/' + str(now.strftime('%Y%m%d')) + '.tsv'\n",
    "print(report_output_filename)"
   ]
  },
  {
   "cell_type": "code",
   "execution_count": null,
   "id": "25909387-0815-4119-883b-bbc955a3b726",
   "metadata": {},
   "outputs": [],
   "source": [
    "def is_primary( hubmap_id, instance='prod', token=None ):\n",
    "    metadata = hubmapbags.apis.get_ancestors_info( hubmap_id, instance=instance, token=token )\n",
    "    if 'entity_type' in metadata[0].keys() and  metadata[0]['entity_type'] == 'Sample':\n",
    "        return True\n",
    "    else:\n",
    "        if 'error' in metadata[0]:\n",
    "            warning(metadata[0]['error'])\n",
    "        return False\n",
    "    \n",
    "def has_metadata( metadata ):\n",
    "    if 'ingest_metadata' in metadata.keys() and 'metadata' in metadata['ingest_metadata'].keys():\n",
    "        return True\n",
    "    else:\n",
    "        return False"
   ]
  },
  {
   "cell_type": "code",
   "execution_count": null,
   "id": "8953e377-85c5-486a-8c36-d816f9f03663",
   "metadata": {},
   "outputs": [],
   "source": [
    "if not Path(report_output_filename).exists():\n",
    "    # get assay types\n",
    "    assay_names = hubmapbags.apis.get_assay_types( token=token )\n",
    "\n",
    "    report = pd.DataFrame()\n",
    "    for assay_name in assay_names:\n",
    "        print(assay_name)\n",
    "        datasets = pd.DataFrame(hubmapbags.get_hubmap_ids( assay_name=assay_name, token=token ))\n",
    "\n",
    "        if datasets.empty:\n",
    "            continue\n",
    "\n",
    "        #clean up\n",
    "        datasets = datasets[(datasets['data_type'] != 'image_pyramid')]\n",
    "        datasets = datasets[(datasets['status'] == 'Published')]\n",
    "        \n",
    "        for index, datum in tqdm(datasets.iterrows()):\n",
    "            datasets.loc[index, 'directory'] = hubmapbags.apis.get_directory( datum['hubmap_id'], instance='prod', token=token )\n",
    "            metadata = hubmapbags.apis.get_dataset_info( datum['hubmap_id'], instance='prod', token=token )\n",
    "            \n",
    "            if has_metadata( metadata ):\n",
    "                datasets.loc[index,'has_metadata'] = True\n",
    "                if 'ingest_metadata' in metadata.keys():\n",
    "                    datasets.loc[index,'assay_type'] = metadata['ingest_metadata']['metadata']['assay_type']\n",
    "                    datasets.loc[index,'assay_category'] = metadata['ingest_metadata']['metadata']['assay_category']\n",
    "                else:\n",
    "                    datasets.loc[index,'assay_type'] = None\n",
    "                    datasets.loc[index, 'assay_category'] = None\n",
    "            else:\n",
    "                datasets.loc[index,'has_metadata'] = False\n",
    "            \n",
    "        report = pd.concat([report,datasets])\n",
    "    \n",
    "    report = report[['group_name','uuid','hubmap_id','status','is_protected','data_type','assay_type','assay_category','directory']]\n",
    "    report.to_csv( report_output_filename, sep='\\t', index=False )\n",
    "    report.to_pickle( report_output_filename.replace('tsv','pkl') )\n",
    "else:\n",
    "    print('File found on disk. Loading ' + report_output_filename + '.' )\n",
    "    report = pd.read_csv( report_output_filename, sep='\\t' )"
   ]
  },
  {
   "cell_type": "code",
   "execution_count": null,
   "id": "5ead2eda-f034-46f5-b926-31cbb83e98f7",
   "metadata": {},
   "outputs": [],
   "source": [
    "def find_thumbnail( datum ):\n",
    "    if datum['is_protected']:\n",
    "        return ''\n",
    "    else:\n",
    "        if Path(datum['directory']).exists():\n",
    "            files = list(Path(datum['directory']).glob('**/*thumbnail.jpg'))\n",
    "            return str(files)\n",
    "        else:\n",
    "            return ''\n",
    "    \n",
    "def get_thumbnail( metadata ):\n",
    "    if 'ingest_metadata' in metadata.keys() and 'thumbnail_file_abs_path' in metadata['ingest_metadata'].keys():\n",
    "        return metadata['ingest_metadata']['thumbnail_file_abs_path']\n",
    "    else:\n",
    "        return None\n",
    "\n",
    "files = []\n",
    "for index, datum in tqdm(report.iterrows()):\n",
    "    metadata = hubmapbags.apis.get_dataset_info( datum['hubmap_id'], instance='prod', token=token )\n",
    "    report.loc[index,'entity.thumbnail_file_abs_path'] = get_thumbnail( metadata )\n",
    "    files.append(find_thumbnail( datum ))"
   ]
  },
  {
   "cell_type": "code",
   "execution_count": null,
   "id": "18e381f8-7039-4cfe-8be0-2b82c212e554",
   "metadata": {},
   "outputs": [],
   "source": [
    "report['files'] = files"
   ]
  },
  {
   "cell_type": "code",
   "execution_count": null,
   "id": "016a849d-4eae-474c-9999-b5487dd961a4",
   "metadata": {},
   "outputs": [],
   "source": [
    "report_output_filename = report_output_directory + '/thumbnails.tsv'\n",
    "report.to_csv( report_output_filename, sep='\\t', index=False )\n",
    "print(report_output_filename)"
   ]
  },
  {
   "cell_type": "code",
   "execution_count": null,
   "id": "5ba7cb70-b032-4ef7-a915-1151ca05bee3",
   "metadata": {},
   "outputs": [],
   "source": [
    "report = report[['hubmap_id','status','is_protected','data_type','assay_category','entity.thumbnail_file_abs_path','files']]"
   ]
  },
  {
   "cell_type": "code",
   "execution_count": null,
   "id": "1c0c38a8-4715-418e-a187-a7435b05827a",
   "metadata": {},
   "outputs": [],
   "source": [
    "print(report[~report['entity.thumbnail_file_abs_path'].isnull()].to_markdown(tablefmt=\"grid\"))"
   ]
  }
 ],
 "metadata": {
  "kernelspec": {
   "display_name": "Python 3 (ipykernel)",
   "language": "python",
   "name": "python3"
  },
  "language_info": {
   "codemirror_mode": {
    "name": "ipython",
    "version": 3
   },
   "file_extension": ".py",
   "mimetype": "text/x-python",
   "name": "python",
   "nbconvert_exporter": "python",
   "pygments_lexer": "ipython3",
   "version": "3.10.8"
  }
 },
 "nbformat": 4,
 "nbformat_minor": 5
}
