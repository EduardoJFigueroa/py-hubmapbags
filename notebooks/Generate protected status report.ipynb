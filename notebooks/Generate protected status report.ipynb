{
 "cells": [
  {
   "cell_type": "markdown",
   "id": "8fdba6ab-ed9c-4dfe-844a-140969598f56",
   "metadata": {},
   "source": [
    "# Generate protected-status report"
   ]
  },
  {
   "cell_type": "code",
   "execution_count": 1,
   "id": "7f677c03-624f-4ed5-b1ab-836b1590b66a",
   "metadata": {},
   "outputs": [],
   "source": [
    "import hubmapbags\n",
    "from datetime import datetime\n",
    "from pathlib import Path\n",
    "import pandas as pd\n",
    "from tqdm import tqdm\n",
    "from warnings import warn as warning\n",
    "\n",
    "token = 'token'\n",
    "instance = 'prod' #default instance is test"
   ]
  },
  {
   "cell_type": "code",
   "execution_count": 2,
   "id": "dc3e6e66-4c64-4d35-9414-946186633054",
   "metadata": {},
   "outputs": [],
   "source": [
    "# get assay types\n",
    "assay_names = hubmapbags.get_assay_types()"
   ]
  },
  {
   "cell_type": "code",
   "execution_count": 3,
   "id": "90cddca3-4949-4ed7-be52-878a76fdf5a1",
   "metadata": {},
   "outputs": [
    {
     "name": "stdout",
     "output_type": "stream",
     "text": [
      "AF\n",
      "ATACseq-bulk\n"
     ]
    },
    {
     "name": "stderr",
     "output_type": "stream",
     "text": [
      "/home/icaoberg/miniconda3/lib/python3.9/site-packages/hubmapbags-2022.2-py3.9.egg/hubmapbags/apis.py:243: UserWarning: 401 Unauthorized: The globus token in the HTTP 'Authorization: Bearer <globus-token>' header is either invalid or expired.\n"
     ]
    },
    {
     "name": "stdout",
     "output_type": "stream",
     "text": [
      "cell-dive\n",
      "CODEX\n",
      "CODEX2\n",
      "DART-FISH\n",
      "IMC2D\n",
      "IMC3D\n",
      "lc-ms_label-free\n",
      "lc-ms_labeled\n",
      "lc-ms-ms_label-free\n",
      "lc-ms-ms_labeled\n",
      "LC-MS-untargeted\n",
      "Lightsheet\n",
      "MALDI-IMS\n",
      "MIBI\n",
      "NanoDESI\n",
      "NanoPOTS\n",
      "MxIF\n",
      "PAS\n",
      "bulk-RNA\n",
      "SNARE-ATACseq2\n",
      "SNARE-RNAseq2\n",
      "scRNAseq-10xGenomics-v2\n",
      "scRNAseq-10xGenomics-v3\n",
      "sciATACseq\n",
      "sciRNAseq\n",
      "seqFish\n",
      "seqFish_pyramid\n",
      "snATACseq\n",
      "snRNAseq-10xGenomics-v2\n",
      "snRNAseq-10xGenomics-v3\n",
      "Slide-seq\n",
      "Targeted-Shotgun-LC-MS\n",
      "TMT-LC-MS\n",
      "WGS\n",
      "LC-MS\n",
      "MS\n",
      "LC-MS_bottom_up\n",
      "MS_bottom_up\n",
      "LC-MS_top_down\n",
      "MS_top_down\n"
     ]
    }
   ],
   "source": [
    "report = pd.DataFrame()\n",
    "for assay_name in assay_names:\n",
    "    print(assay_name)\n",
    "    datasets = pd.DataFrame(hubmapbags.get_hubmap_ids( assay_name=assay_name, token=token ))\n",
    "\n",
    "    if datasets.empty:\n",
    "        continue\n",
    "    \n",
    "    #clean up\n",
    "    datasets = datasets[(datasets['data_type'] != 'image_pyramid')]\n",
    "    datasets = datasets[(datasets['status'] == 'Published')]\n",
    "    \n",
    "    datasets['is_protected'] = None\n",
    "    for index, datum in tqdm(datasets.iterrows()):\n",
    "        datasets.loc[index,'is_protected'] = hubmapbags.apis.is_protected( datum['hubmap_id'], instance='prod', token=token )\n",
    "    \n",
    "    if report.empty:\n",
    "        report = datasets\n",
    "    else:\n",
    "        report = pd.concat( [report, datasets] )"
   ]
  },
  {
   "cell_type": "code",
   "execution_count": 4,
   "id": "e880cbe3-39b7-42d7-b8e8-b1c20e8337af",
   "metadata": {},
   "outputs": [],
   "source": [
    "from datetime import datetime\n",
    "now = datetime.now() \n",
    "\n",
    "if not Path('protected-data-report').exists():\n",
    "    Path('protected-data-report').mkdir()\n",
    "report.to_csv('protected-data-report/' + str(now.strftime('%Y%m%d')) + '.tsv', sep='\\t', index=False )"
   ]
  }
 ],
 "metadata": {
  "kernelspec": {
   "display_name": "Python 3 (ipykernel)",
   "language": "python",
   "name": "python3"
  },
  "language_info": {
   "codemirror_mode": {
    "name": "ipython",
    "version": 3
   },
   "file_extension": ".py",
   "mimetype": "text/x-python",
   "name": "python",
   "nbconvert_exporter": "python",
   "pygments_lexer": "ipython3",
   "version": "3.9.7"
  }
 },
 "nbformat": 4,
 "nbformat_minor": 5
}
