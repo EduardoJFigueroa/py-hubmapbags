{
 "cells": [
  {
   "cell_type": "markdown",
   "metadata": {},
   "source": [
    "# Generate UUID report on all public primary protected datasets\n",
    "This notebook builds a table that has two important fields\n",
    "\n",
    "* `has_uuids` - False if there are no UUIDs present in the UUID-API for this dataset\n",
    "* `number_of_uuids` - the number of UUIDs in the UUID-API db."
   ]
  },
  {
   "cell_type": "code",
   "execution_count": null,
   "metadata": {},
   "outputs": [],
   "source": [
    "import hubmapbags\n",
    "from datetime import datetime\n",
    "from pathlib import Path\n",
    "import pandas as pd\n",
    "from tqdm import tqdm\n",
    "from warnings import warn as warning\n",
    "\n",
    "token = ''\n",
    "instance = 'prod' #default instance is test"
   ]
  },
  {
   "cell_type": "code",
   "execution_count": null,
   "metadata": {},
   "outputs": [],
   "source": [
    "# get assay types\n",
    "assay_names = hubmapbags.get_assay_types()\n",
    "print(assay_names)\n",
    "assay_names = ['ATACseq-bulk']"
   ]
  },
  {
   "cell_type": "code",
   "execution_count": null,
   "metadata": {},
   "outputs": [],
   "source": [
    "report = pd.DataFrame()\n",
    "for assay_name in assay_names:\n",
    "    print(assay_name)\n",
    "    datasets = pd.DataFrame(hubmapbags.get_hubmap_ids( assay_name=assay_name, token=token ))\n",
    "\n",
    "    if datasets.empty:\n",
    "        continue\n",
    "    \n",
    "    #clean up\n",
    "    datasets = datasets[(datasets['data_type'] != 'image_pyramid')]\n",
    "    datasets = datasets[(datasets['status'] == 'Published')]\n",
    "    datasets = datasets[(datasets['is_protected'] == True)]\n",
    "\n",
    "    datasets['has_uuids'] = None\n",
    "    datasets['number_of_uuids'] = None\n",
    "    datasets['directory'] = None\n",
    "    datasets['number_of_files'] = None\n",
    "    for index, datum in tqdm(datasets.iterrows()):\n",
    "        \n",
    "        if hubmapbags.apis.is_protected( datum['hubmap_id'], token=token ):\n",
    "            datasets.loc[index, 'number_of_uuids'] = hubmapbags.uuids.get_number_of_uuids( datum['hubmap_id'], token=token )\n",
    "\n",
    "            if datasets.loc[index, 'number_of_uuids'] == 0:\n",
    "                datasets.loc[index, 'has_uuids'] = False\n",
    "            else:\n",
    "                datasets.loc[index, 'has_uuids'] = True\n",
    "                \n",
    "            datasets.loc[index, 'directory'] = hubmapbags.apis.get_directory( datum['hubmap_id'], instance='prod', token=token )\n",
    "            datasets.loc[index, 'number_of_files'] = hubmapbags.apis.get_number_of_files( datum['hubmap_id'], instance='prod', token=token )\n",
    "    \n",
    "    if report.empty:\n",
    "        report = datasets\n",
    "    else:\n",
    "        report = pd.concat( [report, datasets] )"
   ]
  },
  {
   "cell_type": "code",
   "execution_count": null,
   "metadata": {},
   "outputs": [],
   "source": [
    "from datetime import datetime\n",
    "now = datetime.now() \n",
    "\n",
    "report = report[report['is_protected']==True] \n",
    "directory = 'uuid-protected-data-report'\n",
    "\n",
    "if not Path(directory).exists():\n",
    "    Path(directory).mkdir()\n",
    "report.to_csv( directory + '/' + str(now.strftime('%Y%m%d')) + '.tsv', sep='\\t', index=False )"
   ]
  },
  {
   "cell_type": "code",
   "execution_count": null,
   "metadata": {},
   "outputs": [],
   "source": []
  }
 ],
 "metadata": {
  "kernelspec": {
   "display_name": "Python 3",
   "language": "python",
   "name": "python3"
  },
  "language_info": {
   "codemirror_mode": {
    "name": "ipython",
    "version": 3
   },
   "file_extension": ".py",
   "mimetype": "text/x-python",
   "name": "python",
   "nbconvert_exporter": "python",
   "pygments_lexer": "ipython3",
   "version": "3.8.5"
  }
 },
 "nbformat": 4,
 "nbformat_minor": 5
}
