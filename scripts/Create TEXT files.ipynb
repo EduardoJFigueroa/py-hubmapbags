{
 "cells": [
  {
   "cell_type": "markdown",
   "metadata": {},
   "source": [
    "# Create TXT files\n",
    "## Create folder and copy definitions"
   ]
  },
  {
   "cell_type": "code",
   "execution_count": null,
   "metadata": {},
   "outputs": [],
   "source": [
    "import pandas as pd\n",
    "from shutil import copytree\n",
    "from shutil import rmtree\n",
    "import pathlib\n",
    "import json\n",
    "import yaml\n",
    "import hubmapbags\n",
    "from pathlib import Path\n",
    "import pandas as pd\n",
    "from tqdm import tqdm\n",
    "from warnings import warn as warning\n",
    "from datetime import datetime\n",
    "\n",
    "instance = 'prod'\n",
    "token = ''"
   ]
  },
  {
   "cell_type": "code",
   "execution_count": null,
   "metadata": {},
   "outputs": [],
   "source": [
    "now = datetime.now()\n",
    "output_directory = 'data'\n",
    "if not Path(output_directory).exists():\n",
    "    Path(output_directory).mkdir()\n",
    "\n",
    "report_output_directory = 'uuid-protected-data-report'\n",
    "if not Path(report_output_directory).exists():\n",
    "    Path(report_output_directory).mkdir()\n",
    "\n",
    "report_output_filename = report_output_directory + '/' + str(now.strftime('%Y%m%d')) + '.pkl'\n",
    "print('File found on disk. Loading ' + report_output_filename + '.')\n",
    "report = pd.read_pickle(report_output_filename.replace('tsv', 'pkl'))"
   ]
  },
  {
   "cell_type": "code",
   "execution_count": null,
   "metadata": {},
   "outputs": [],
   "source": [
    "def get_dbgap_study_id( datum ):\n",
    "        if ( datum['group_name'] == 'University of California San Diego TMC' ) or \\\n",
    "                ( datum['group_name'] == 'Broad Institute RTI' and datum['data_type'] == 'Slide-seq' ):\n",
    "                return 'phs002249'\n",
    "        elif datum['group_name'] == 'Stanford TMC':\n",
    "                return 'phs002272'\n",
    "        else:\n",
    "                return None"
   ]
  },
  {
   "cell_type": "code",
   "execution_count": null,
   "metadata": {},
   "outputs": [],
   "source": [
    "report"
   ]
  },
  {
   "cell_type": "code",
   "execution_count": null,
   "metadata": {},
   "outputs": [],
   "source": [
    "report['dbgap_study_id'] = None\n",
    "for index, datum in tqdm(report.iterrows()):\n",
    "    report.loc[index,'dbgap_study_id'] = get_dbgap_study_id( datum )\n",
    "report"
   ]
  },
  {
   "cell_type": "code",
   "execution_count": null,
   "metadata": {},
   "outputs": [],
   "source": [
    "def build_dataframe( report, instance=instance, token=token ):\n",
    "    headers = ['donor_uuid','donor_hubmap_id',\\\n",
    "           'direct_sample_uuid','direct_sample_hubmap_id',\\\n",
    "           'organ_uuid','organ_hubmap_id','organ_type',\\\n",
    "           'direct_sample_type','dataset_metadata','donor_metadata']\n",
    "        \n",
    "    for index, datum in tqdm(report.iterrows()):\n",
    "        pmetadata = hubmapbags.apis.get_provenance_info( datum['hubmap_id'], instance=instance, token=token)\n",
    "        \n",
    "        try:\n",
    "            report.loc[index,'donor_uuid'] = pmetadata['donor_uuid'][0]\n",
    "        except Exception as e:\n",
    "            print(e)\n",
    "            print(pmetadata['donor_uuid'])\n",
    "            \n",
    "        try:\n",
    "            report.loc[index,'donor_hubmap_id'] = pmetadata['donor_hubmap_id'][0]\n",
    "        except Exception as e:\n",
    "            print(e)\n",
    "            print(pmetadata['donor_hubmap_id'])\n",
    "        \n",
    "        report.loc[index,'direct_sample_uuid'] = pmetadata['first_sample_uuid'][0]\n",
    "        report.loc[index,'direct_sample_type'] = pmetadata['first_sample_type'][0]\n",
    "        report.loc[index,'direct_sample_hubmap_id'] = pmetadata['first_sample_hubmap_id'][0]\n",
    "        \n",
    "        try:\n",
    "            report.loc[index,'organ_uuid'] = pmetadata['organ_uuid'][0]\n",
    "        except Exception as e:\n",
    "            print(e)\n",
    "            print(pmetadata['organ_uuid'])\n",
    "        \n",
    "        try:\n",
    "            report.loc[index,'organ_hubmap_id'] = pmetadata['organ_hubmap_id'][0]\n",
    "        except Exception as e:\n",
    "            print(e)\n",
    "            print(pmetadata['organ_hubmap_id'])\n",
    "            \n",
    "        try:\n",
    "            report.loc[index,'organ_type'] = pmetadata['organ_type'][0]\n",
    "        except Exception as e:\n",
    "            print(e)\n",
    "            print(pmetadata['organ_type'])\n",
    "        \n",
    "        metadata = hubmapbags.apis.get_dataset_info( datum['hubmap_id'], instance=instance, token=token )\n",
    "        \n",
    "        try:\n",
    "            report.loc[index,'donor_uuid'] = pmetadata.get('donor_uuid')[0]\n",
    "        except Exception as e:\n",
    "            print(e)\n",
    "            print(pmetadata.get('donor_uuid'))\n",
    "            \n",
    "        try:\n",
    "            report.loc[index,'donor_hubmap_id'] = pmetadata.get('donor_hubmap_id')[0]\n",
    "        except Exception as e:\n",
    "            print(e)\n",
    "            print(pmetadata.get('donor_hubmap_id'))\n",
    "    \n",
    "    return report"
   ]
  },
  {
   "cell_type": "code",
   "execution_count": null,
   "metadata": {},
   "outputs": [],
   "source": [
    "report = build_dataframe( report, instance=instance, token=token )\n",
    "report.to_csv( 'dbgap.' + str(now.strftime('%Y%m%d')) + '.tsv', sep='\\t', index=False)"
   ]
  },
  {
   "cell_type": "code",
   "execution_count": null,
   "metadata": {},
   "outputs": [],
   "source": [
    "report = pd.concat([report[report['group_name'] == 'University of California San Diego TMC'],report[report['group_name'] == 'Broad Institute RTI']])"
   ]
  },
  {
   "cell_type": "code",
   "execution_count": null,
   "metadata": {},
   "outputs": [],
   "source": [
    "report"
   ]
  },
  {
   "cell_type": "code",
   "execution_count": null,
   "metadata": {},
   "outputs": [],
   "source": [
    "#DISCLAIMER: @icaoberg this code is super alpha. Please be kind.\n",
    "# remove submission folder if it exists\n",
    "directory = 'phs002249'\n",
    "p = pathlib.Path( directory )\n",
    "if p.exists() and p.is_dir():\n",
    "    print( 'Removing existing folder ' + directory )\n",
    "    rmtree(p)\n",
    "result = copytree( 'dbgap-submission-scripts/templates', directory )\n",
    "print(directory)"
   ]
  },
  {
   "cell_type": "markdown",
   "metadata": {},
   "source": [
    "## Subject Consent"
   ]
  },
  {
   "cell_type": "code",
   "execution_count": null,
   "metadata": {},
   "outputs": [],
   "source": [
    "donor = report[['donor_hubmap_id', 'donor_uuid']]\n",
    "donor = donor.drop_duplicates(subset=['donor_hubmap_id'])\n",
    "\n",
    "donor['sex'] = None\n",
    "for index, datum in tqdm(donor.iterrows()):\n",
    "    metadata = hubmapbags.apis.get_entity_info( datum['donor_hubmap_id'], token=token, instance='prod' )\n",
    "    if 'living_donor_data' in metadata['metadata'].keys():\n",
    "        for info in metadata['metadata']['living_donor_data']:\n",
    "            if info['grouping_concept_preferred_term'] == 'Sex':\n",
    "                donor.loc[index,'sex'] = info['preferred_term']\n",
    "    else:\n",
    "        for info in metadata['metadata']['organ_donor_data']:\n",
    "            if info['grouping_concept_preferred_term'] == 'Sex':\n",
    "                donor.loc[index,'sex'] = info['preferred_term']\n",
    "                \n",
    "    if donor.loc[index,'sex'] == 'Male':\n",
    "        donor.loc[index,'sex'] = 1;\n",
    "    else:\n",
    "        donor.loc[index,'sex'] = 2;\n",
    "        \n",
    "    donor.loc[index,'subject_source']='HuBMAP'\n",
    "    \n",
    "donor = donor.drop('donor_uuid',axis=1)\n",
    "donor['SOURCE_SUBJECT_ID']=donor['donor_hubmap_id']\n",
    "donor['consent']=1\n",
    "donor = donor.rename(columns={'donor_hubmap_id':'SUBJECT_ID','consent':'CONSENT','sex':'SEX', 'subject_source':'SUBJECT_SOURCE'})\n",
    "donor=donor.reindex(columns=['SUBJECT_ID', 'CONSENT', 'SEX', 'SUBJECT_SOURCE', 'SOURCE_SUBJECT_ID'])\n",
    "donor.to_csv(directory + '/2a_SubjectConsent_DS.txt', index=False, sep='\\t')\n",
    "\n",
    "donor"
   ]
  },
  {
   "cell_type": "markdown",
   "metadata": {},
   "source": [
    "## Sample Attributes"
   ]
  },
  {
   "cell_type": "code",
   "execution_count": null,
   "metadata": {},
   "outputs": [],
   "source": [
    "with open('search-api/src/search-schema/data/definitions/enums/organ_types.yaml') as file:\n",
    "    organ_types = yaml.load(file, Loader=yaml.FullLoader)\n",
    "\n",
    "sample_attributes = report[['hubmap_id']]\n",
    "analyte_class = []\n",
    "\n",
    "sample_attributes['BODY_SITE']=None\n",
    "for index, datum in tqdm(sample_attributes.iterrows()):\n",
    "    metadata = hubmapbags.apis.get_dataset_info(datum['hubmap_id'], token=token, instance=instance)\n",
    "    \n",
    "    if datum['hubmap_id'] == 'HBM347.RFGL.437':\n",
    "        analyte_class.append('DNA')\n",
    "    elif datum['hubmap_id'] == 'HBM773.WCXC.264':\n",
    "        analyte_class.append('RNA')\n",
    "    elif 'ingest_metadata' in metadata.keys():\n",
    "        analyte_class.append(metadata['ingest_metadata']['metadata']['analyte_class'])\n",
    "    else:\n",
    "        print(datum['hubmap_id'])\n",
    "    \n",
    "    sample_attributes.loc[index,'BODY_SITE'] = report.loc[index, 'organ_type']\n",
    "\n",
    "sample_attributes['ANALYTE_TYPE'] = analyte_class\n",
    "sample_attributes['IS_TUMOR'] = 'N'\n",
    "sample_attributes = sample_attributes.rename(columns={'hubmap_id':'SAMPLE_ID'})\n",
    "sample_attributes=sample_attributes.reindex(columns=['SAMPLE_ID', 'BODY_SITE', 'ANALYTE_TYPE', 'IS_TUMOR'])\n",
    "sample_attributes.to_csv(directory + '/6a_SampleAttributes_DS.txt', index=False, sep='\\t')"
   ]
  },
  {
   "cell_type": "code",
   "execution_count": null,
   "metadata": {},
   "outputs": [],
   "source": [
    "sample_attributes"
   ]
  },
  {
   "cell_type": "markdown",
   "metadata": {},
   "source": [
    "## Subject Sample Mapping (SSM)"
   ]
  },
  {
   "cell_type": "code",
   "execution_count": null,
   "metadata": {},
   "outputs": [],
   "source": [
    "sample_mapping = report[['donor_hubmap_id','hubmap_id']]\n",
    "sample_mapping = sample_mapping.rename(columns={'donor_hubmap_id':'SUBJECT_ID','hubmap_id':'SAMPLE_ID'})\n",
    "sample_mapping.to_csv(directory  + '/3a_SSM_DS.txt', index=False, sep='\\t')\n",
    "\n",
    "sample_mapping"
   ]
  },
  {
   "cell_type": "markdown",
   "metadata": {},
   "source": [
    "# Missing metadata"
   ]
  },
  {
   "cell_type": "code",
   "execution_count": null,
   "metadata": {},
   "outputs": [],
   "source": [
    "hmid = 'HBM347.RFGL.437'\n",
    "metadata = hubmapbags.apis.get_dataset_info( hmid, token=token, instance=instance )\n",
    "metadata"
   ]
  },
  {
   "cell_type": "code",
   "execution_count": null,
   "metadata": {},
   "outputs": [],
   "source": [
    "hmid='HBM773.WCXC.264'\n",
    "metadata = hubmapbags.apis.get_dataset_info( hmid, token=token, instance=instance )\n",
    "metadata"
   ]
  }
 ],
 "metadata": {
  "kernelspec": {
   "display_name": "Python 3 (ipykernel)",
   "language": "python",
   "name": "python3"
  },
  "language_info": {
   "codemirror_mode": {
    "name": "ipython",
    "version": 3
   },
   "file_extension": ".py",
   "mimetype": "text/x-python",
   "name": "python",
   "nbconvert_exporter": "python",
   "pygments_lexer": "ipython3",
   "version": "3.10.8"
  }
 },
 "nbformat": 4,
 "nbformat_minor": 4
}
