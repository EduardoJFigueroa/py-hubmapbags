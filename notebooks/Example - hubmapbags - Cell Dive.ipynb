{
 "cells": [
  {
   "cell_type": "markdown",
   "id": "6e2b2b77-2105-403e-829f-ff21fa43d948",
   "metadata": {},
   "source": [
    "# Example - hubmapbags - Cell Dive"
   ]
  },
  {
   "cell_type": "code",
   "execution_count": null,
   "id": "05c49716-a241-46d7-9951-c240fe853b56",
   "metadata": {},
   "outputs": [],
   "source": [
    "import pandas as pd\n",
    "from shutil import copytree\n",
    "from shutil import rmtree\n",
    "import hubmapbags\n",
    "import pathlib\n",
    "import json\n",
    "import shutil\n",
    "import yaml\n",
    "import hubmapinventory\n",
    "\n",
    "from pathlib import Path\n",
    "import pandas as pd\n",
    "from tqdm import tqdm\n",
    "from warnings import warn as warning\n",
    "from datetime import datetime\n",
    "from time import sleep\n",
    "from pandarallel import pandarallel\n",
    "\n",
    "instance = 'prod'\n",
    "token = ''\n",
    "ncores = 2\n",
    "pandarallel.initialize(progress_bar=True, nb_workers=ncores)"
   ]
  },
  {
   "cell_type": "code",
   "execution_count": null,
   "id": "f219a5b6-6e6d-4d6f-a741-a1453c86263c",
   "metadata": {},
   "outputs": [],
   "source": [
    "# just to list them all, not really needed\n",
    "assay_types = hubmapbags.apis.get_assay_types( token=token )\n",
    "print(assay_types)"
   ]
  },
  {
   "cell_type": "code",
   "execution_count": null,
   "id": "7172eb30-47b7-41c4-bc2f-37c36ae88e9b",
   "metadata": {},
   "outputs": [],
   "source": [
    "!find . -type f -name \"*.computing\" -exec rm -f {} \\;"
   ]
  },
  {
   "cell_type": "code",
   "execution_count": null,
   "id": "9b7a7f19-629a-49ac-b673-561dede5f85a",
   "metadata": {},
   "outputs": [],
   "source": [
    "assay_types = ['cell-dive']"
   ]
  },
  {
   "cell_type": "code",
   "execution_count": null,
   "id": "40366610-3787-4ad1-a1ef-62f9a00d85e2",
   "metadata": {},
   "outputs": [],
   "source": [
    "def __is_primary( dataset_id ):\n",
    "    return hubmapbags.apis.is_primary( dataset_id, instance='prod', token=token )"
   ]
  },
  {
   "cell_type": "code",
   "execution_count": null,
   "id": "87eb37f2-69af-4bef-86ee-8b2671463774",
   "metadata": {},
   "outputs": [],
   "source": [
    "for assay_type in assay_types:\n",
    "    datasets = hubmapbags.apis.get_ids(assay_type, token=token)\n",
    "    for dataset in datasets:\n",
    "        if __is_primary(dataset['hubmap_id']):\n",
    "            if dataset['status'] == 'Published':\n",
    "                hubmapbags.magic.do_it(\n",
    "                    dataset['hubmap_id'],\n",
    "                    overwrite=False,\n",
    "                    build_bags=True,\n",
    "                    token=token,\n",
    "                    instance=instance)"
   ]
  }
 ],
 "metadata": {
  "kernelspec": {
   "display_name": "Python 3 (ipykernel)",
   "language": "python",
   "name": "python3"
  },
  "language_info": {
   "codemirror_mode": {
    "name": "ipython",
    "version": 3
   },
   "file_extension": ".py",
   "mimetype": "text/x-python",
   "name": "python",
   "nbconvert_exporter": "python",
   "pygments_lexer": "ipython3",
   "version": "3.10.9"
  }
 },
 "nbformat": 4,
 "nbformat_minor": 5
}
