{
 "cells": [
  {
   "cell_type": "markdown",
   "id": "8fdba6ab-ed9c-4dfe-844a-140969598f56",
   "metadata": {},
   "source": [
    "# Generate table - CODEX\n",
    "This notebook builds a table that has two important fields\n",
    "\n",
    "* `has_uuids` - False if there are no UUIDs present in the UUID-API for this dataset\n",
    "* `number_of_uuids` - the number of UUIDs in the UUID-API db. This is important because due to the large of number of files in the CODEX datasets, sometimes there is a mismatch between the number of files on disk and the number of files in the database."
   ]
  },
  {
   "cell_type": "code",
   "execution_count": 1,
   "id": "7f677c03-624f-4ed5-b1ab-836b1590b66a",
   "metadata": {},
   "outputs": [],
   "source": [
    "import hubmapbags\n",
    "from datetime import datetime\n",
    "from pathlib import Path\n",
    "import pandas as pd\n",
    "from tqdm import tqdm\n",
    "from warnings import warn as warning\n",
    "\n",
    "token = 'token'\n",
    "instance = 'prod' #default instance is test"
   ]
  },
  {
   "cell_type": "code",
   "execution_count": 2,
   "id": "0dda4449-aa9b-425b-bee3-e3b10cb13291",
   "metadata": {},
   "outputs": [],
   "source": [
    "assay_name = 'CODEX'"
   ]
  },
  {
   "cell_type": "code",
   "execution_count": 3,
   "id": "90cddca3-4949-4ed7-be52-878a76fdf5a1",
   "metadata": {},
   "outputs": [
    {
     "name": "stderr",
     "output_type": "stream",
     "text": [
      "138it [06:26,  2.80s/it]\n"
     ]
    }
   ],
   "source": [
    "datasets = pd.DataFrame(hubmapbags.get_hubmap_ids( assay_name=assay_name, token=token ))\n",
    "\n",
    "datasets['has_uuids'] = None\n",
    "datasets['number_of_uuids'] = None\n",
    "\n",
    "for index, datum in tqdm(datasets.iterrows()):\n",
    "    datasets.loc[index, 'number_of_uuids'] = hubmapbags.uuids.get_number_of_uuids( datum['hubmap_id'], token=token )\n",
    "    if datasets.loc[index, 'number_of_uuids'] == 0:\n",
    "        datasets.loc[index, 'has_uuids'] = False\n",
    "    else:\n",
    "        datasets.loc[index, 'number_of_uuids'] = True\n",
    "        "
   ]
  },
  {
   "cell_type": "code",
   "execution_count": 4,
   "id": "e880cbe3-39b7-42d7-b8e8-b1c20e8337af",
   "metadata": {},
   "outputs": [],
   "source": [
    "from datetime import datetime\n",
    "now = datetime.now() \n",
    "\n",
    "if not Path('codex-report').exists():\n",
    "    Path('codex-report').mkdir()\n",
    "datasets.to_csv('codex-report/' + str(now.strftime('%Y%m%d')) + '.tsv', sep='\\t', index=False )"
   ]
  }
 ],
 "metadata": {
  "kernelspec": {
   "display_name": "Python 3 (ipykernel)",
   "language": "python",
   "name": "python3"
  },
  "language_info": {
   "codemirror_mode": {
    "name": "ipython",
    "version": 3
   },
   "file_extension": ".py",
   "mimetype": "text/x-python",
   "name": "python",
   "nbconvert_exporter": "python",
   "pygments_lexer": "ipython3",
   "version": "3.9.7"
  }
 },
 "nbformat": 4,
 "nbformat_minor": 5
}
