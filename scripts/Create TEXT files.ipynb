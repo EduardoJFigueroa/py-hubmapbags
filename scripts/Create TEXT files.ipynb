{
 "cells": [
  {
   "cell_type": "markdown",
   "metadata": {},
   "source": [
    "# Create TXT files\n",
    "## Create folder and copy definitions"
   ]
  },
  {
   "cell_type": "code",
   "execution_count": 12,
   "metadata": {},
   "outputs": [],
   "source": [
    "import pandas as pd\n",
    "from shutil import copytree\n",
    "from shutil import rmtree\n",
    "import pathlib\n",
    "import json\n",
    "import yaml\n",
    "import hubmapbags\n",
    "from pathlib import Path\n",
    "import pandas as pd\n",
    "from tqdm import tqdm\n",
    "from warnings import warn as warning\n",
    "from datetime import datetime\n",
    "\n",
    "instance = 'prod'\n",
    "token = ''"
   ]
  },
  {
   "cell_type": "code",
   "execution_count": 50,
   "metadata": {},
   "outputs": [
    {
     "name": "stdout",
     "output_type": "stream",
     "text": [
      "File found on disk. Loading uuid-protected-data-report/20221219.pkl.\n"
     ]
    }
   ],
   "source": [
    "now = datetime.now()\n",
    "output_directory = 'data'\n",
    "if not Path(output_directory).exists():\n",
    "    Path(output_directory).mkdir()\n",
    "\n",
    "report_output_directory = 'uuid-protected-data-report'\n",
    "if not Path(report_output_directory).exists():\n",
    "    Path(report_output_directory).mkdir()\n",
    "\n",
    "report_output_filename = report_output_directory + '/' + str(now.strftime('%Y%m%d')) + '.pkl'\n",
    "print('File found on disk. Loading ' + report_output_filename + '.')\n",
    "report = pd.read_pickle(report_output_filename.replace('tsv', 'pkl'))"
   ]
  },
  {
   "cell_type": "code",
   "execution_count": 51,
   "metadata": {},
   "outputs": [],
   "source": [
    "def get_dbgap_study_id( datum ):\n",
    "        if ( datum['group_name'] == 'University of California San Diego TMC' ) or \\\n",
    "                ( datum['group_name'] == 'Broad Institute RTI' and datum['data_type'] == 'Slide-seq' ):\n",
    "                return 'phs002249'\n",
    "        elif datum['group_name'] == 'Stanford TMC':\n",
    "                return 'phs002272'\n",
    "        else:\n",
    "                return None"
   ]
  },
  {
   "cell_type": "code",
   "execution_count": 52,
   "metadata": {},
   "outputs": [],
   "source": [
    "def build_dataframe( report, instance=instance, token=token ):\n",
    "    headers = ['donor_uuid','donor_hubmap_id',\\\n",
    "           'direct_sample_uuid','direct_sample_hubmap_id',\\\n",
    "           'organ_uuid','organ_hubmap_id','organ_type',\\\n",
    "           'direct_sample_type','dataset_metadata','donor_metadata']\n",
    "\n",
    "    report['dbgap_study_id'] = None\n",
    "    for index, datum in tqdm(report.iterrows()):\n",
    "        report.loc[index,'dbgap_study_id'] = get_dbgap_study_id( datum )\n",
    "        \n",
    "    for key in headers:\n",
    "        report[key] = None\n",
    "        \n",
    "    for index, datum in tqdm(report.iterrows()):\n",
    "        pmetadata = hubmapbags.apis.get_provenance_info( datum['hubmap_id'], instance=instance, token=token)\n",
    "        \n",
    "        report.loc[index,'donor_uuid'] = pmetadata['donor_uuid']\n",
    "        report.loc[index,'donor_hubmap_id'] = pmetadata['donor_hubmap_id']\n",
    "        \n",
    "        report.loc[index,'direct_sample_uuid'] = pmetadata['first_sample_uuid'][0]\n",
    "        report.loc[index,'direct_sample_type'] = pmetadata['first_sample_type'][0]\n",
    "        report.loc[index,'direct_sample_hubmap_id'] = pmetadata['first_sample_hubmap_id'][0]\n",
    "        \n",
    "        report.loc[index,'organ_uuid'] = pmetadata['organ_uuid']\n",
    "        report.loc[index,'organ_hubmap_id'] = pmetadata['organ_hubmap_id']\n",
    "        report.loc[index,'organ_type'] = pmetadata['organ_type']\n",
    "        \n",
    "        metadata = hubmapbags.apis.get_dataset_info( datum['hubmap_id'], instance=instance, token=token )\n",
    "        report.loc[index,'donor_uuid'] = pmetadata.get('donor_uuid')[0]\n",
    "        report.loc[index,'donor_hubmap_id'] = pmetadata.get('donor_hubmap_id')[0]\n",
    "        \n",
    "        try:\n",
    "            report.loc[index,'dataset_metadata'] = [hubmapbags.apis.get_dataset_info( datum['hubmap_id'], instance=instance, token=token)]\n",
    "        except Exception as e:\n",
    "            print(datum['hubmap_id'])\n",
    "            print(e)\n",
    "            report.loc[index,'dataset_metadata'] = None\n",
    "    \n",
    "    return report"
   ]
  },
  {
   "cell_type": "code",
   "execution_count": 53,
   "metadata": {},
   "outputs": [
    {
     "name": "stderr",
     "output_type": "stream",
     "text": [
      "417it [00:00, 6522.05it/s]\n",
      "417it [04:01,  1.73it/s]\n"
     ]
    }
   ],
   "source": [
    "report = build_dataframe( report, instance=instance, token=token )\n",
    "report.to_csv( 'dbgap.' + str(now.strftime('%Y%m%d')) + '.pkl', sep='\\t', index=False)"
   ]
  },
  {
   "cell_type": "code",
   "execution_count": 55,
   "metadata": {},
   "outputs": [
    {
     "data": {
      "text/plain": [
       "Index(['uuid', 'hubmap_id', 'status', 'is_protected', 'data_type', 'directory',\n",
       "       'group_name', 'has_uuids', 'number_of_uuids', 'number_of_files',\n",
       "       'dbgap_study_id', 'donor_uuid', 'donor_hubmap_id', 'direct_sample_uuid',\n",
       "       'direct_sample_hubmap_id', 'organ_uuid', 'organ_hubmap_id',\n",
       "       'organ_type', 'direct_sample_type', 'dataset_metadata',\n",
       "       'donor_metadata'],\n",
       "      dtype='object')"
      ]
     },
     "execution_count": 55,
     "metadata": {},
     "output_type": "execute_result"
    }
   ],
   "source": [
    "report.keys()"
   ]
  },
  {
   "cell_type": "code",
   "execution_count": 58,
   "metadata": {},
   "outputs": [
    {
     "data": {
      "text/plain": [
       "20    phs002249\n",
       "21    phs002249\n",
       "22    phs002249\n",
       "23    phs002249\n",
       "24    phs002249\n",
       "        ...    \n",
       "35    phs002249\n",
       "36    phs002249\n",
       "37    phs002249\n",
       "38    phs002249\n",
       "39    phs002249\n",
       "Name: dbgap_study_id, Length: 179, dtype: object"
      ]
     },
     "execution_count": 58,
     "metadata": {},
     "output_type": "execute_result"
    }
   ],
   "source": [
    "df = report[report['dbgap_study_id']=='phs002249']\n",
    "df['group_name'"
   ]
  },
  {
   "cell_type": "code",
   "execution_count": 45,
   "metadata": {},
   "outputs": [],
   "source": [
    "#DISCLAIMER: @icaoberg this code is super alpha. Please be kind.\n",
    "# remove submission folder if it exists\n",
    "for tmc_name in tmc.unique():\n",
    "    directory = 'submission-' + tmc_name.replace(' ','_').lower()\n",
    "    p = pathlib.Path( directory )\n",
    "    if p.exists() and p.is_dir():\n",
    "        print( 'Removing existing folder ' + directory )\n",
    "        rmtree(p)\n",
    "    result = copytree( 'dbgap-submission-scripts/templates', directory )"
   ]
  },
  {
   "cell_type": "code",
   "execution_count": null,
   "metadata": {},
   "outputs": [],
   "source": []
  },
  {
   "cell_type": "markdown",
   "metadata": {},
   "source": [
    "## Subject Consent"
   ]
  },
  {
   "cell_type": "code",
   "execution_count": null,
   "metadata": {},
   "outputs": [],
   "source": [
    "donor = df[['donor_hubmap_id', 'donor_metadata']]\n",
    "donor.insert(0,'TMC',tmc)\n",
    "donor = donor.drop_duplicates(subset=['donor_hubmap_id'])\n",
    "donor['sex'] = donor['donor_metadata'].str.find('Female',0)\n",
    "donor.loc[donor['sex'] != -1, 'sex'] = 2\n",
    "donor.loc[donor['sex'] == -1, 'sex'] = 1\n",
    "donor.insert(1,'consent',[1]*len(donor))\n",
    "donor = donor.drop('donor_metadata',axis=1)\n",
    "donor = donor.rename(columns={'donor_hubmap_id':'SUBJECT_ID','consent':'CONSENT','sex':'SEX'})\n",
    "donor.insert(3,'SUBJECT_SOURCE',['HuBMAP']*len(donor))\n",
    "donor['SOURCE_SUBJECT_ID'] = donor['SUBJECT_ID']\n",
    "\n",
    "donor=donor.reindex(columns=['TMC', 'SUBJECT_ID', 'CONSENT', 'SEX', 'SUBJECT_SOURCE', 'SOURCE_SUBJECT_ID'])\n",
    "print(donor)\n",
    "\n",
    "for tmc_name in tmc.unique():\n",
    "    temp = donor\n",
    "    temp = temp[temp.TMC.isin([tmc_name])]\n",
    "    temp = temp.drop('TMC',axis=1)\n",
    "    temp.to_csv('submission-' + tmc_name + '/2a_SubjectConsent_DS.txt', index=False, sep='\\t')"
   ]
  },
  {
   "cell_type": "markdown",
   "metadata": {},
   "source": [
    "## Sample Attributes"
   ]
  },
  {
   "cell_type": "code",
   "execution_count": null,
   "metadata": {},
   "outputs": [],
   "source": [
    "with open('search-api/src/search-schema/data/definitions/enums/organ_types.yaml') as file:\n",
    "    organ_types = yaml.load(file, Loader=yaml.FullLoader)\n",
    "\n",
    "sample_attributes = df[['dataset_hubmap_id','dataset_metadata']]\n",
    "sample_attributes.insert(0,'TMC',tmc)\n",
    "\n",
    "analyte_class = []\n",
    "for index in range(len(sample_attributes)):\n",
    "    metadata = sample_attributes.loc[index]['dataset_metadata']\n",
    "    try:\n",
    "        analyte_class.append( metadata[metadata.find('analyte_class',0)+16: \\\n",
    "                         metadata.find(',',metadata.find('analyte_class',0))])\n",
    "    except:\n",
    "        analyte_class.append('MISSING')\n",
    "    \n",
    "sample_attributes = sample_attributes.drop('dataset_metadata',axis=1)\n",
    "sample_attributes['ANALYTE_TYPE'] = analyte_class\n",
    "sample_attributes.insert(1,'BODY_SITE',df['organ_type'])\n",
    "#sample_attributes.insert(1,'HISTOLOGICAL_TYPE',df['organ_type'])\n",
    "sample_attributes.insert(3,'IS_TUMOR',['N']*len(sample_attributes))\n",
    "\n",
    "for index in range(len(sample_attributes)):\n",
    "    sample_attributes['BODY_SITE'].loc[index] = organ_types[sample_attributes['BODY_SITE'].loc[index]]['description']\n",
    "    #sample_attributes['HISTOLOGICAL_TYPE'].loc[index] = organ_types[sample_attributes['HISTOLOGICAL_TYPE'].loc[index]]['description']\n",
    "\n",
    "sample_attributes = sample_attributes.drop_duplicates(subset=['dataset_hubmap_id'])\n",
    "sample_attributes = sample_attributes.rename(columns={'dataset_hubmap_id':'SAMPLE_ID'})\n",
    "\n",
    "#sample_attributes=sample_attributes.reindex(columns=['TMC', 'SAMPLE_ID', 'BODY_SITE', 'ANALYTE_TYPE', 'IS_TUMOR', 'HISTOLOGICAL_TYPE'])\n",
    "sample_attributes=sample_attributes.reindex(columns=['TMC', 'SAMPLE_ID', 'BODY_SITE', 'ANALYTE_TYPE', 'IS_TUMOR'])\n",
    "#sample_attributes['HISTOLOGICAL_TYPE'].replace('Lymph Node 05', 'Lymph Node', inplace=True)\n",
    "#sample_attributes['HISTOLOGICAL_TYPE'].replace('Lymph Node 01', 'Lymph Node', inplace=True)\n",
    "sample_attributes['BODY_SITE'].replace('Lymph Node 05', 'Lymph Node', inplace=True)\n",
    "sample_attributes['BODY_SITE'].replace('Lymph Node 01', 'Lymph Node', inplace=True)\n",
    "\n",
    "print(sample_attributes)\n",
    "\n",
    "for tmc_name in tmc.unique():\n",
    "    temp = sample_attributes\n",
    "    temp = temp[temp.TMC.isin([tmc_name])]\n",
    "    temp = temp.drop('TMC',axis=1)\n",
    "    temp.to_csv('submission-' + tmc_name + '/6a_SampleAttributes_DS.txt', index=False, sep='\\t')"
   ]
  },
  {
   "cell_type": "markdown",
   "metadata": {},
   "source": [
    "## Subject Sample Mapping (SSM)"
   ]
  },
  {
   "cell_type": "code",
   "execution_count": null,
   "metadata": {},
   "outputs": [],
   "source": [
    "sample_mapping = df[['donor_hubmap_id','dataset_hubmap_id']]\n",
    "sample_mapping.insert(0,'TMC',tmc)\n",
    "sample_mapping = sample_mapping.drop_duplicates(subset=['dataset_hubmap_id'])\n",
    "sample_mapping = sample_mapping.rename(columns={'donor_hubmap_id':'SUBJECT_ID','dataset_hubmap_id':'SAMPLE_ID'})\n",
    "print( sample_mapping )\n",
    "\n",
    "for tmc_name in tmc.unique():\n",
    "    temp = sample_mapping\n",
    "    temp = temp[temp.TMC.isin([tmc_name])]\n",
    "    temp = temp.drop('TMC',axis=1)\n",
    "    temp.to_csv('submission-' + tmc_name + '/3a_SSM_DS.txt', index=False, sep='\\t')"
   ]
  },
  {
   "cell_type": "code",
   "execution_count": null,
   "metadata": {},
   "outputs": [],
   "source": [
    "report.keys()"
   ]
  },
  {
   "cell_type": "code",
   "execution_count": 9,
   "metadata": {},
   "outputs": [
    {
     "ename": "NameError",
     "evalue": "name 'datum' is not defined",
     "output_type": "error",
     "traceback": [
      "\u001b[0;31m---------------------------------------------------------------------------\u001b[0m",
      "\u001b[0;31mNameError\u001b[0m                                 Traceback (most recent call last)",
      "Input \u001b[0;32mIn [9]\u001b[0m, in \u001b[0;36m<cell line: 1>\u001b[0;34m()\u001b[0m\n\u001b[0;32m----> 1\u001b[0m \u001b[43mdatum\u001b[49m\n",
      "\u001b[0;31mNameError\u001b[0m: name 'datum' is not defined"
     ]
    }
   ],
   "source": [
    "datum"
   ]
  },
  {
   "cell_type": "code",
   "execution_count": null,
   "metadata": {},
   "outputs": [],
   "source": []
  }
 ],
 "metadata": {
  "kernelspec": {
   "display_name": "Python 3 (ipykernel)",
   "language": "python",
   "name": "python3"
  },
  "language_info": {
   "codemirror_mode": {
    "name": "ipython",
    "version": 3
   },
   "file_extension": ".py",
   "mimetype": "text/x-python",
   "name": "python",
   "nbconvert_exporter": "python",
   "pygments_lexer": "ipython3",
   "version": "3.9.7"
  }
 },
 "nbformat": 4,
 "nbformat_minor": 4
}
