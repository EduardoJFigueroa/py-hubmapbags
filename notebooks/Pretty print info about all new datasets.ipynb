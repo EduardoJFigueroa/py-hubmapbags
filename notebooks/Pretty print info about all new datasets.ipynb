{
 "cells": [
  {
   "cell_type": "markdown",
   "id": "881cee95-7ba8-4d4e-a1f2-792c2f3b9909",
   "metadata": {},
   "source": [
    " # Pretty print info about all new datasets"
   ]
  },
  {
   "cell_type": "code",
   "execution_count": null,
   "id": "fc52bbd3-67df-4b6d-8a33-719e1c47b8a8",
   "metadata": {},
   "outputs": [],
   "source": [
    "import hubmapbags\n",
    "from datetime import datetime\n",
    "from pathlib import Path\n",
    "import pandas as pd\n",
    "from tqdm import tqdm\n",
    "from warnings import warn as warning\n",
    "\n",
    "token = 'token'\n",
    "instance = 'prod' #default instance is test"
   ]
  },
  {
   "cell_type": "code",
   "execution_count": null,
   "id": "91127592-e137-4b74-9111-48ef33000f3b",
   "metadata": {},
   "outputs": [],
   "source": [
    "results = hubmapbags.apis.pretty_print_info_about_all_new_datasets()"
   ]
  },
  {
   "cell_type": "code",
   "execution_count": null,
   "id": "a6f4108f-69c1-4f1a-bedc-3e0c54a33134",
   "metadata": {},
   "outputs": [],
   "source": [
    "from datetime import datetime\n",
    "now = datetime.now() \n",
    "\n",
    "directory = 'new-dataset-report'\n",
    "\n",
    "if not Path(directory).exists():\n",
    "    Path(directory).mkdir()\n",
    "report.to_csv( directory + '/' + str(now.strftime('%Y%m%d')) + '.tsv', sep='\\t', index=False )"
   ]
  }
 ],
 "metadata": {
  "kernelspec": {
   "display_name": "Python 3 (ipykernel)",
   "language": "python",
   "name": "python3"
  },
  "language_info": {
   "codemirror_mode": {
    "name": "ipython",
    "version": 3
   },
   "file_extension": ".py",
   "mimetype": "text/x-python",
   "name": "python",
   "nbconvert_exporter": "python",
   "pygments_lexer": "ipython3",
   "version": "3.9.7"
  }
 },
 "nbformat": 4,
 "nbformat_minor": 5
}
