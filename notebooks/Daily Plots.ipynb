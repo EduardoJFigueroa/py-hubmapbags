{
 "cells": [
  {
   "cell_type": "code",
   "execution_count": null,
   "id": "fb455d3e-0ac0-499d-b1df-44f39cf80eec",
   "metadata": {},
   "outputs": [],
   "source": [
    "import hubmapbags\n",
    "import pandas as pd\n",
    "import matplotlib.pyplot as plt\n",
    "from pathlib import Path\n",
    "from datetime import datetime\n",
    "import seaborn as sns\n",
    "import numpy as np"
   ]
  },
  {
   "cell_type": "code",
   "execution_count": null,
   "id": "52b95d25-83d3-406e-94fe-50d2ee68e43b",
   "metadata": {},
   "outputs": [],
   "source": [
    "token = ''",
    "hubmapbags.utilities.clean()\n",
    "hubmapbags.reports.daily(token=token)"
   ]
  },
  {
   "cell_type": "code",
   "execution_count": null,
   "id": "46d4647d-485e-42f3-b57a-9a911ec1b9b5",
   "metadata": {},
   "outputs": [],
   "source": [
    "#get daily report\n",
    "report_output_directory = \"daily-report\"\n",
    "if not Path(report_output_directory).exists():\n",
    "    Path(report_output_directory).mkdir()\n",
    "\n",
    "now = datetime.now()\n",
    "report_output_filename = f'{report_output_directory}/{str(now.strftime(\"%Y%m%d\"))}.tsv'\n",
    "print(report_output_filename)\n",
    "\n",
    "df = pd.read_csv(report_output_filename, sep=\"\\t\")"
   ]
  },
  {
   "cell_type": "code",
   "execution_count": null,
   "id": "c6a29676-b381-448f-8156-b9f12190180f",
   "metadata": {},
   "outputs": [],
   "source": [
    "#dataframe keys\n",
    "df.keys()"
   ]
  },
  {
   "cell_type": "markdown",
   "id": "c671f915-f77c-4669-8b5a-970c571d7c87",
   "metadata": {},
   "source": [
    "# Plots by Group Name"
   ]
  },
  {
   "cell_type": "code",
   "execution_count": null,
   "id": "1d6cdefd-676e-4c29-9243-d1fab9cbc140",
   "metadata": {},
   "outputs": [],
   "source": [
    "df['group_name'].unique()"
   ]
  },
  {
   "cell_type": "code",
   "execution_count": null,
   "id": "eff4a901-c827-4d4d-8e1c-2c42d6bb335b",
   "metadata": {},
   "outputs": [],
   "source": [
    "group = df.groupby(['group_name', 'status']).count()[['data_type']]\n",
    "print(group.to_markdown())"
   ]
  },
  {
   "cell_type": "code",
   "execution_count": null,
   "id": "38c5d5ed-5984-4634-89e1-b10da69ffdba",
   "metadata": {},
   "outputs": [],
   "source": [
    "hubmapbags.plots.by_group(df)"
   ]
  },
  {
   "cell_type": "markdown",
   "id": "9441df5e-cc6a-4cbe-a3c5-fa67af36a15e",
   "metadata": {},
   "source": [
    "# Plots by Data Type"
   ]
  },
  {
   "cell_type": "code",
   "execution_count": null,
   "id": "2975c877-8125-4ac2-b419-6263f599c623",
   "metadata": {},
   "outputs": [],
   "source": [
    "df['data_type'].unique()"
   ]
  },
  {
   "cell_type": "code",
   "execution_count": null,
   "id": "20f477d1-5e95-4f45-a1d9-4e89059bbc74",
   "metadata": {},
   "outputs": [],
   "source": [
    "data_type = df.groupby(['data_type', 'status']).count()\n",
    "data_type"
   ]
  },
  {
   "cell_type": "code",
   "execution_count": null,
   "id": "30e3ef50-19a4-43f3-86a1-4658255ae174",
   "metadata": {},
   "outputs": [],
   "source": [
    "df['status'].unique()"
   ]
  },
  {
   "cell_type": "code",
   "execution_count": null,
   "id": "115a4740-b89b-426e-ae4b-4187c4d86b49",
   "metadata": {},
   "outputs": [],
   "source": [
    "hubmapbags.plots.by_data_type(df)"
   ]
  },
  {
   "cell_type": "code",
   "execution_count": null,
   "id": "a2cd3c6f-bc7e-480f-b46d-8041e8962131",
   "metadata": {},
   "outputs": [],
   "source": [
    "plt.rcParams['figure.figsize'] = [50.0, 50.0]\n",
    "plt.rcParams['figure.dpi'] = 500\n",
    "\n",
    "g = sns.displot(df[df['dataset_type']=='Primary'], height=10, x=\"data_type\", hue=\"status\", multiple='stack',aspect = 2)\n",
    "plt.xticks(df[df['dataset_type']=='Primary']['data_type'],df[df['dataset_type']=='Primary']['data_type'],rotation=45, fontsize=10, ha='right')\n",
    "\n",
    "#g.set_xticklabels(g.get_xticklabels(), rotation=40, ha=\"right\")\n",
    "\n",
    "plt.tight_layout()\n",
    "\n",
    "g.set(xlabel='Data Type',\n",
    "       ylabel='Count',\n",
    "       title=str(now.strftime(\"%Y%m%d\")))\n",
    "\n",
    "sns.move_legend(g, \"center right\", ncol=1, title='Dataset status', frameon=False)\n",
    "\n",
    "plt.show()"
   ]
  },
  {
   "cell_type": "code",
   "execution_count": null,
   "id": "b148449d-b1ec-4709-b9d4-a2e4ec22790a",
   "metadata": {},
   "outputs": [],
   "source": [
    "df_shormin = df.copy()"
   ]
  },
  {
   "cell_type": "code",
   "execution_count": null,
   "id": "31108222-ada2-422b-b895-6d0119d1d6cb",
   "metadata": {},
   "outputs": [],
   "source": [
    "df_shormin['published_datetime']"
   ]
  },
  {
   "cell_type": "code",
   "execution_count": null,
   "id": "af62aa97-72d8-438e-be42-94c3d4f199a0",
   "metadata": {},
   "outputs": [],
   "source": [
    "df_shormin = df_shormin[~df_shormin['published_datetime'].isnull()]"
   ]
  },
  {
   "cell_type": "code",
   "execution_count": null,
   "id": "694ac66e-fbec-4796-8be1-d5e504b2455e",
   "metadata": {},
   "outputs": [],
   "source": [
    "df_shormin['published_datetime']"
   ]
  },
  {
   "cell_type": "code",
   "execution_count": null,
   "id": "7159b3c5-8593-41bd-85d9-1fdca2c0c527",
   "metadata": {},
   "outputs": [],
   "source": [
    "df_shormin['published_datetime'] = pd.to_datetime(df['published_datetime'])  # convert column to datetime\n",
    "\n",
    "# Extract year, month, and day\n",
    "df_shormin['year'] = df_shormin['published_datetime'].dt.year\n",
    "df_shormin['month'] = df_shormin['published_datetime'].dt.month\n",
    "df_shormin['day'] = df_shormin['published_datetime'].dt.day"
   ]
  },
  {
   "cell_type": "code",
   "execution_count": null,
   "id": "f19e6a44-6189-4129-a50b-3acee48351c9",
   "metadata": {},
   "outputs": [],
   "source": [
    "df_shormin"
   ]
  },
  {
   "cell_type": "code",
   "execution_count": null,
   "id": "fd763021-68d6-430d-a496-c1bb35d1432b",
   "metadata": {},
   "outputs": [],
   "source": [
    "# Convert year to string\n",
    "df_shormin['year_str'] = df_shormin['year'].astype(str)\n",
    "\n",
    "# Count occurrences for each year\n",
    "year_counts = df_shormin['year_str'].value_counts().sort_index()\n",
    "colors = plt.cm.inferno(np.linspace(0, 1, len(year_counts)))\n",
    "# Plot\n",
    "plt.figure(figsize=(10,6))\n",
    "plt.bar(year_counts.index, year_counts.values, color=colors)\n",
    "plt.xticks(rotation=45)\n",
    "plt.xlabel('Year')\n",
    "plt.ylabel('Count')\n",
    "plt.title('Number of Data Published Per Year')\n",
    "plt.show()"
   ]
  },
  {
   "cell_type": "code",
   "execution_count": null,
   "id": "d55b3a5b-a438-4759-9efe-53d5c62bad33",
   "metadata": {},
   "outputs": [],
   "source": [
    "from pandas.api.types import CategoricalDtype\n",
    "\n",
    "# Convert month to its name\n",
    "df_shormin['month'] = df_shormin['published_datetime'].dt.month_name()\n",
    "\n",
    "# Define the order of the months\n",
    "months_in_order = CategoricalDtype(['January', 'February', 'March', 'April', 'May', 'June', \n",
    "                                    'July', 'August', 'September', 'October', 'November', 'December'], \n",
    "                                    ordered=True)\n",
    "\n",
    "# Convert the month column to ordered categories\n",
    "df_shormin['month'] = df_shormin['month'].astype(months_in_order)\n",
    "\n",
    "# Count occurrences for each month\n",
    "month_counts = df_shormin['month'].value_counts().sort_index()\n",
    "colors = plt.cm.inferno(np.linspace(0, 1, len(month_counts)))\n",
    "# Plot\n",
    "plt.figure(figsize=(10,6))\n",
    "plt.bar(month_counts.index, month_counts.values, color=colors)\n",
    "plt.xticks(rotation=45)\n",
    "plt.xlabel('Month')\n",
    "plt.ylabel('Count')\n",
    "plt.title('Number of Data Published Per Month')\n",
    "plt.show()"
   ]
  },
  {
   "cell_type": "code",
   "execution_count": null,
   "id": "60a89991-ff20-4d51-83ee-ffe2e8d3f746",
   "metadata": {},
   "outputs": [],
   "source": [
    "\n",
    "# Extract date only (without time)\n",
    "df_shormin['day'] = df_shormin['published_datetime'].dt.date\n",
    "\n",
    "# Count occurrences for each day\n",
    "day_counts = df_shormin['day'].value_counts().sort_index()\n",
    "\n",
    "# Plot\n",
    "plt.figure(figsize=(10,6))\n",
    "plt.plot(day_counts.index, day_counts.values, color='b')  # Line plot\n",
    "plt.scatter(day_counts.index, day_counts.values, color='r')  # Scatter plot\n",
    "plt.xticks(rotation=45)\n",
    "plt.xlabel('Day')\n",
    "plt.ylabel('Count')\n",
    "plt.title('Number of Data Published Per Day')\n",
    "plt.show()\n"
   ]
  },
  {
   "cell_type": "code",
   "execution_count": null,
   "id": "1f9bef90-bc80-4445-9df8-06a2f1f5e9b5",
   "metadata": {},
   "outputs": [],
   "source": []
  },
  {
   "cell_type": "code",
   "execution_count": null,
   "id": "5ace21ab-f6d9-4a35-a262-af1e3dd64e30",
   "metadata": {},
   "outputs": [],
   "source": [
    "# plot status per day count"
   ]
  },
  {
   "cell_type": "code",
   "execution_count": null,
   "id": "72c815f5-20da-447b-941f-6dfac0e3db7f",
   "metadata": {},
   "outputs": [],
   "source": [
    "df_shormin_status = df.copy()"
   ]
  },
  {
   "cell_type": "code",
   "execution_count": null,
   "id": "8eb7331e-2416-4d4e-a12f-77199c81f5a5",
   "metadata": {},
   "outputs": [],
   "source": [
    "\n",
    "df_shormin_status['published_datetime'] = pd.to_datetime(df_shormin_status['published_datetime'])  # convert column to datetime\n",
    "# Extract day\n",
    "df_shormin_status['day'] = df_shormin_status['published_datetime'].dt.day"
   ]
  },
  {
   "cell_type": "code",
   "execution_count": null,
   "id": "d78fd3c3-2153-4df0-af0c-c1c1c2a73403",
   "metadata": {},
   "outputs": [],
   "source": [
    "df_shormin_status['status']"
   ]
  },
  {
   "cell_type": "code",
   "execution_count": null,
   "id": "86595d75-ec80-4e8c-96b9-c2879531ea1c",
   "metadata": {},
   "outputs": [],
   "source": [
    "status = df_shormin_status.groupby(['status']).count()"
   ]
  },
  {
   "cell_type": "code",
   "execution_count": null,
   "id": "1bfa7055-2eaf-46fd-985e-4617cbd92e49",
   "metadata": {},
   "outputs": [],
   "source": [
    "status"
   ]
  },
  {
   "cell_type": "code",
   "execution_count": null,
   "id": "9d0f93da-a273-4ce9-959d-e6fe9edb9f1a",
   "metadata": {},
   "outputs": [],
   "source": [
    "df_shormin_status['status'].unique()"
   ]
  },
  {
   "cell_type": "code",
   "execution_count": null,
   "id": "0453f734-65fe-4d46-9e8e-3278596a7272",
   "metadata": {},
   "outputs": [],
   "source": [
    "import pandas as pd\n",
    "\n",
    "# Convert 'day' to datetime (if it's not already)\n",
    "df_shormin_status['day'] = pd.to_datetime(df_shormin_status['published_datetime'])\n",
    "\n",
    "# Group by 'day' and 'status', then unstack 'status' to get it as columns\n",
    "status_counts = df_shormin_status.groupby(['day', 'status']).size().unstack()\n",
    "\n",
    "# Plot\n",
    "plt.figure(figsize=(12, 8))\n",
    "for status in status_counts.columns:\n",
    "    plt.scatter(status_counts.index, status_counts[status], label=status)\n",
    "    plt.plot(status_counts.index, status_counts[status], label=status)\n",
    "\n",
    "plt.xlabel('Day')\n",
    "plt.ylabel('Count')\n",
    "plt.title('Status Counts Per Day')\n",
    "plt.legend()\n",
    "plt.show()"
   ]
  },
  {
   "cell_type": "code",
   "execution_count": null,
   "id": "07c1df8d-c5c1-431a-acce-c56e6f979da2",
   "metadata": {},
   "outputs": [],
   "source": []
  }
 ],
 "metadata": {
  "kernelspec": {
   "display_name": "Python 3 (ipykernel)",
   "language": "python",
   "name": "python3"
  },
  "language_info": {
   "codemirror_mode": {
    "name": "ipython",
    "version": 3
   },
   "file_extension": ".py",
   "mimetype": "text/x-python",
   "name": "python",
   "nbconvert_exporter": "python",
   "pygments_lexer": "ipython3",
   "version": "3.9.13"
  }
 },
 "nbformat": 4,
 "nbformat_minor": 5
}
