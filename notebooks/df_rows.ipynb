{
 "cells": [
  {
   "cell_type": "code",
   "execution_count": 6,
   "id": "dba2b7da-ba56-457c-b1f0-d52127bc2803",
   "metadata": {},
   "outputs": [],
   "source": [
    "import pandas as pd\n",
    "import dask.dataframe as dd\n",
    "import time"
   ]
  },
  {
   "cell_type": "code",
   "execution_count": 7,
   "id": "1d876f22-3012-4d3c-a24b-dd278d1b1920",
   "metadata": {},
   "outputs": [],
   "source": [
    "file_path = '20230803.tsv'\n",
    "df = pd.read_csv(file_path, delimiter='\\t')"
   ]
  },
  {
   "cell_type": "code",
   "execution_count": null,
   "id": "8560571c-3733-4b56-8c10-3ecf9b1fa475",
   "metadata": {},
   "outputs": [],
   "source": [
    "df"
   ]
  },
  {
   "cell_type": "code",
   "execution_count": 9,
   "id": "bd4fd284-d634-4d23-a759-e918a4aaf041",
   "metadata": {},
   "outputs": [
    {
     "name": "stdout",
     "output_type": "stream",
     "text": [
      "The code took 0.010203361511230469 seconds to run.\n"
     ]
    }
   ],
   "source": [
    "\n",
    "start_time = time.time()\n",
    "\n",
    "# Function that will be applied to each partition of the DataFrame\n",
    "def process_partition(partition):\n",
    "    for index, row in partition.iterrows():\n",
    "        # Do something with the row\n",
    "        print(row)\n",
    "    return partition\n",
    "\n",
    "# Dask DataFrame\n",
    "pdf = df\n",
    "ddf = dd.from_pandas(pdf, npartitions=2)\n",
    "\n",
    "# Apply the process_partition function to each partition of the DataFrame\n",
    "result = ddf.map_partitions(process_partition, meta=ddf._meta)\n",
    "\n",
    "# Compute to trigger the computation\n",
    "result.compute() \n",
    "\n",
    "end_time = time.time()\n",
    "\n",
    "print(f\"The code took {end_time - start_time} seconds to run.\")\n"
   ]
  },
  {
   "cell_type": "code",
   "execution_count": 10,
   "id": "d2453908-e119-4255-96d4-5a7eba50ec78",
   "metadata": {},
   "outputs": [
    {
     "data": {
      "text/plain": [
       "'/jet/home/fshormin/py-hubmapbags/notebooks'"
      ]
     },
     "execution_count": 10,
     "metadata": {},
     "output_type": "execute_result"
    }
   ],
   "source": [
    "pwd"
   ]
  },
  {
   "cell_type": "code",
   "execution_count": null,
   "id": "a10465f6-2cae-4d74-9232-0aea2baae14f",
   "metadata": {},
   "outputs": [],
   "source": []
  }
 ],
 "metadata": {
  "kernelspec": {
   "display_name": "fshormin",
   "language": "python",
   "name": "fshormin"
  },
  "language_info": {
   "codemirror_mode": {
    "name": "ipython",
    "version": 3
   },
   "file_extension": ".py",
   "mimetype": "text/x-python",
   "name": "python",
   "nbconvert_exporter": "python",
   "pygments_lexer": "ipython3",
   "version": "3.9.16"
  }
 },
 "nbformat": 4,
 "nbformat_minor": 5
}
