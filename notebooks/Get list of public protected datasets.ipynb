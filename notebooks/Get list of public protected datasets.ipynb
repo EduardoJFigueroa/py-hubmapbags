{
 "cells": [
  {
   "cell_type": "markdown",
   "id": "8fdba6ab-ed9c-4dfe-844a-140969598f56",
   "metadata": {},
   "source": [
    "# Get list of public protected datasets"
   ]
  },
  {
   "cell_type": "code",
   "execution_count": null,
   "id": "7f677c03-624f-4ed5-b1ab-836b1590b66a",
   "metadata": {},
   "outputs": [],
   "source": [
    "import hubmapbags\n",
    "from datetime import datetime\n",
    "from pathlib import Path\n",
    "import pandas as pd\n",
    "from tqdm import tqdm\n",
    "from warnings import warn as warning\n",
    "\n",
    "token = 'token'\n",
    "instance = 'prod' #default instance is test"
   ]
  },
  {
   "cell_type": "code",
   "execution_count": null,
   "id": "dc3e6e66-4c64-4d35-9414-946186633054",
   "metadata": {},
   "outputs": [],
   "source": [
    "# get assay types\n",
    "assay_names = hubmapbags.get_assay_types()"
   ]
  },
  {
   "cell_type": "code",
   "execution_count": null,
   "id": "90cddca3-4949-4ed7-be52-878a76fdf5a1",
   "metadata": {},
   "outputs": [],
   "source": [
    "report = pd.DataFrame()\n",
    "for assay_name in assay_names:\n",
    "    print(assay_name)\n",
    "    datasets = pd.DataFrame(hubmapbags.get_hubmap_ids( assay_name=assay_name, token=token ))\n",
    "\n",
    "    if datasets.empty:\n",
    "        continue\n",
    "    \n",
    "    #clean up\n",
    "    datasets = datasets[(datasets['data_type'] != 'image_pyramid')]\n",
    "    datasets = datasets[(datasets['status'] == 'Published')]\n",
    "    \n",
    "    datasets['is_protected'] = None\n",
    "    for index, datum in tqdm(datasets.iterrows()):\n",
    "        datasets.loc[index,'is_protected'] = hubmapbags.apis.is_protected( datum['hubmap_id'], instance='prod', token=token )\n",
    "        \n",
    "        if datasets.loc[index,'is_protected']:\n",
    "            datasets.loc[index,'number_of_uuids'] = hubmapbags.uuids.get_number_of_uuids( datum['hubmap_id'], instance='prod', token=token )\n",
    "    \n",
    "    if report.empty:\n",
    "        report = datasets\n",
    "    else:\n",
    "        report = pd.concat( [report, datasets] )\n",
    "        \n",
    "report = report[report['is_protected'] == True]"
   ]
  },
  {
   "cell_type": "code",
   "execution_count": null,
   "id": "e880cbe3-39b7-42d7-b8e8-b1c20e8337af",
   "metadata": {},
   "outputs": [],
   "source": [
    "from datetime import datetime\n",
    "now = datetime.now() \n",
    "\n",
    "if not Path('protected-datasets-report').exists():\n",
    "    Path('protected-datasets-report').mkdir()\n",
    "report.to_csv('protected-datasets-report/' + str(now.strftime('%Y%m%d')) + '.tsv', sep='\\t', index=False )"
   ]
  }
 ],
 "metadata": {
  "kernelspec": {
   "display_name": "Python 3 (ipykernel)",
   "language": "python",
   "name": "python3"
  },
  "language_info": {
   "codemirror_mode": {
    "name": "ipython",
    "version": 3
   },
   "file_extension": ".py",
   "mimetype": "text/x-python",
   "name": "python",
   "nbconvert_exporter": "python",
   "pygments_lexer": "ipython3",
   "version": "3.9.7"
  }
 },
 "nbformat": 4,
 "nbformat_minor": 5
}
