{
 "cells": [
  {
   "cell_type": "markdown",
   "id": "1ac049c8",
   "metadata": {},
   "source": [
    " # Example - get donor information - HBM458.JHBQ.969"
   ]
  },
  {
   "cell_type": "code",
   "execution_count": 1,
   "id": "41f8df68",
   "metadata": {},
   "outputs": [],
   "source": [
    "import hubmapbags\n",
    "from datetime import datetime\n",
    "from pathlib import Path\n",
    "import pandas as pd\n",
    "from tqdm import tqdm\n",
    "from warnings import warn as warning\n",
    "\n",
    "instance = 'prod' #default instance is test\n",
    "token = ''\n",
    "hubmap_id = 'HBM458.JHBQ.969'"
   ]
  },
  {
   "cell_type": "code",
   "execution_count": 3,
   "id": "bd1b4e12",
   "metadata": {},
   "outputs": [
    {
     "data": {
      "text/plain": [
       "{'created_by_user_displayname': 'adam kagel',\n",
       " 'created_by_user_email': 'ackagel@stanford.edu',\n",
       " 'created_by_user_sub': 'ded73b44-ffb0-4967-900c-5a59cf814f33',\n",
       " 'created_timestamp': 1620778687261,\n",
       " 'data_access_level': 'public',\n",
       " 'description': 'donor reg test',\n",
       " 'entity_type': 'Donor',\n",
       " 'group_name': 'Stanford RTI',\n",
       " 'group_uuid': 'f5af3a5a-e93c-11e9-8559-0efb3ba9a670',\n",
       " 'hubmap_id': 'HBM889.TKCD.645',\n",
       " 'label': '31733',\n",
       " 'last_modified_timestamp': 1620778687261,\n",
       " 'last_modified_user_displayname': 'adam kagel',\n",
       " 'last_modified_user_email': 'ackagel@stanford.edu',\n",
       " 'last_modified_user_sub': 'ded73b44-ffb0-4967-900c-5a59cf814f33',\n",
       " 'metadata': {'living_donor_data': [{'code': '424144002',\n",
       "    'concept_id': 'C0001779',\n",
       "    'data_type': 'Numeric',\n",
       "    'data_value': '36.6',\n",
       "    'end_datetime': '',\n",
       "    'graph_version': 'UMLS2022AA',\n",
       "    'grouping_code': '424144002',\n",
       "    'grouping_concept': 'C0001779',\n",
       "    'grouping_concept_preferred_term': 'Age',\n",
       "    'grouping_sab': 'SNOMEDCT_US',\n",
       "    'numeric_operator': 'EQ',\n",
       "    'preferred_term': 'Age',\n",
       "    'sab': 'SNOMEDCT_US',\n",
       "    'start_datetime': '',\n",
       "    'units': 'years'},\n",
       "   {'code': '413582008',\n",
       "    'concept_id': 'C0078988',\n",
       "    'data_type': 'Nominal',\n",
       "    'data_value': 'Race',\n",
       "    'end_datetime': '',\n",
       "    'graph_version': 'UMLS2022AA',\n",
       "    'grouping_code': '415229000',\n",
       "    'grouping_concept': 'C0034510',\n",
       "    'grouping_concept_preferred_term': 'Race',\n",
       "    'grouping_sab': 'SNOMEDCT_US',\n",
       "    'numeric_operator': '',\n",
       "    'preferred_term': 'Asian',\n",
       "    'sab': 'SNOMEDCT_US',\n",
       "    'start_datetime': '',\n",
       "    'units': ''},\n",
       "   {'code': '60621009',\n",
       "    'concept_id': 'C1305855',\n",
       "    'data_type': 'Numeric',\n",
       "    'data_value': '24',\n",
       "    'end_datetime': '',\n",
       "    'graph_version': 'UMLS2022AA',\n",
       "    'grouping_code': '60621009',\n",
       "    'grouping_concept': 'C1305855',\n",
       "    'grouping_concept_preferred_term': 'Body Mass Index',\n",
       "    'grouping_sab': 'SNOMEDCT_US',\n",
       "    'numeric_operator': 'EQ',\n",
       "    'preferred_term': 'Body Mass Index',\n",
       "    'sab': 'SNOMEDCT_US',\n",
       "    'start_datetime': '',\n",
       "    'units': 'kg/m2'}]},\n",
       " 'protocol_url': 'https://dx.doi.org/10.17504/protocols.io.btnfnmbn',\n",
       " 'submission_id': 'RTIST0009',\n",
       " 'uuid': 'bb1db3342bd5092fc28a967315f3cf44'}"
      ]
     },
     "execution_count": 3,
     "metadata": {},
     "output_type": "execute_result"
    }
   ],
   "source": [
    "donor_metadata = hubmapbags.apis.get_donor_info( hubmap_id, instance='prod', token=token )\n",
    "donor_metadata"
   ]
  },
  {
   "cell_type": "code",
   "execution_count": null,
   "id": "f778ca77",
   "metadata": {},
   "outputs": [],
   "source": []
  }
 ],
 "metadata": {
  "kernelspec": {
   "display_name": "Python 3 (ipykernel)",
   "language": "python",
   "name": "python3"
  },
  "language_info": {
   "codemirror_mode": {
    "name": "ipython",
    "version": 3
   },
   "file_extension": ".py",
   "mimetype": "text/x-python",
   "name": "python",
   "nbconvert_exporter": "python",
   "pygments_lexer": "ipython3",
   "version": "3.10.9"
  }
 },
 "nbformat": 4,
 "nbformat_minor": 5
}
