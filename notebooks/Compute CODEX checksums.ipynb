{
 "cells": [
  {
   "cell_type": "code",
   "execution_count": 1,
   "id": "29f7ca9c-2a15-4f72-93c0-9787ef6213b5",
   "metadata": {},
   "outputs": [],
   "source": [
    "import hubmapbags"
   ]
  },
  {
   "cell_type": "code",
   "execution_count": 2,
   "id": "02c4d0a1-6c72-4deb-a013-221b03163bd6",
   "metadata": {},
   "outputs": [],
   "source": [
    "token='token'"
   ]
  },
  {
   "cell_type": "code",
   "execution_count": 3,
   "id": "1dde52a5-a1be-4d4a-b644-78f7b811f9a3",
   "metadata": {},
   "outputs": [],
   "source": [
    "assay_types = hubmapbags.apis.get_assay_types()"
   ]
  },
  {
   "cell_type": "code",
   "execution_count": 4,
   "id": "672792fa-7143-401f-979c-2095169e68ce",
   "metadata": {},
   "outputs": [],
   "source": [
    "assay_type = 'AF'"
   ]
  },
  {
   "cell_type": "code",
   "execution_count": 5,
   "id": "373a17bb-e7d2-469a-9e55-a09a011f19c9",
   "metadata": {},
   "outputs": [
    {
     "data": {
      "text/plain": [
       "\u001b[0;31mSignature:\u001b[0m  \u001b[0mhubmapbags\u001b[0m\u001b[0;34m.\u001b[0m\u001b[0mapis\u001b[0m\u001b[0;34m.\u001b[0m\u001b[0mget_hubmap_ids\u001b[0m\u001b[0;34m(\u001b[0m\u001b[0massay_name\u001b[0m\u001b[0;34m,\u001b[0m \u001b[0mtoken\u001b[0m\u001b[0;34m=\u001b[0m\u001b[0;32mNone\u001b[0m\u001b[0;34m,\u001b[0m \u001b[0mdebug\u001b[0m\u001b[0;34m=\u001b[0m\u001b[0;32mFalse\u001b[0m\u001b[0;34m)\u001b[0m\u001b[0;34m\u001b[0m\u001b[0;34m\u001b[0m\u001b[0m\n",
       "\u001b[0;31mDocstring:\u001b[0m Get list of HuBMAP ids given an assay name.\n",
       "\u001b[0;31mFile:\u001b[0m      /media/icaoberg/DATA/code/hive/py-hubmapbags/hubmapbags/apis.py\n",
       "\u001b[0;31mType:\u001b[0m      function\n"
      ]
     },
     "metadata": {},
     "output_type": "display_data"
    }
   ],
   "source": [
    "? hubmapbags.apis.get_hubmap_ids"
   ]
  },
  {
   "cell_type": "code",
   "execution_count": 6,
   "id": "59566502-fcd2-4bec-82b7-6e67e89a8c91",
   "metadata": {},
   "outputs": [
    {
     "ename": "KeyError",
     "evalue": "'hits'",
     "output_type": "error",
     "traceback": [
      "\u001b[0;31m---------------------------------------------------------------------------\u001b[0m",
      "\u001b[0;31mKeyError\u001b[0m                                  Traceback (most recent call last)",
      "Input \u001b[0;32mIn [6]\u001b[0m, in \u001b[0;36m<cell line: 1>\u001b[0;34m()\u001b[0m\n\u001b[0;32m----> 1\u001b[0m ids \u001b[38;5;241m=\u001b[39m \u001b[43mhubmapbags\u001b[49m\u001b[38;5;241;43m.\u001b[39;49m\u001b[43mapis\u001b[49m\u001b[38;5;241;43m.\u001b[39;49m\u001b[43mget_hubmap_ids\u001b[49m\u001b[43m(\u001b[49m\u001b[43massay_type\u001b[49m\u001b[43m,\u001b[49m\u001b[43m \u001b[49m\u001b[43mtoken\u001b[49m\u001b[38;5;241;43m=\u001b[39;49m\u001b[43mtoken\u001b[49m\u001b[43m)\u001b[49m\n",
      "File \u001b[0;32m/media/icaoberg/DATA/code/hive/py-hubmapbags/hubmapbags/apis.py:242\u001b[0m, in \u001b[0;36mget_hubmap_ids\u001b[0;34m(assay_name, token, debug)\u001b[0m\n\u001b[1;32m    239\u001b[0m \t\u001b[38;5;28;01mreturn\u001b[39;00m \u001b[38;5;28;01mNone\u001b[39;00m\n\u001b[1;32m    241\u001b[0m answer \u001b[38;5;241m=\u001b[39m  __query_hubmap_ids( assay_name, token\u001b[38;5;241m=\u001b[39mtoken, debug\u001b[38;5;241m=\u001b[39mdebug )\n\u001b[0;32m--> 242\u001b[0m data \u001b[38;5;241m=\u001b[39m \u001b[43manswer\u001b[49m\u001b[43m[\u001b[49m\u001b[38;5;124;43m'\u001b[39;49m\u001b[38;5;124;43mhits\u001b[39;49m\u001b[38;5;124;43m'\u001b[39;49m\u001b[43m]\u001b[49m[\u001b[38;5;124m'\u001b[39m\u001b[38;5;124mhits\u001b[39m\u001b[38;5;124m'\u001b[39m]\n\u001b[1;32m    244\u001b[0m results \u001b[38;5;241m=\u001b[39m []\n\u001b[1;32m    245\u001b[0m \u001b[38;5;28;01mfor\u001b[39;00m datum \u001b[38;5;129;01min\u001b[39;00m data:\n",
      "\u001b[0;31mKeyError\u001b[0m: 'hits'"
     ]
    }
   ],
   "source": [
    "ids = hubmapbags.apis.get_hubmap_ids(assay_type, token=token)"
   ]
  },
  {
   "cell_type": "code",
   "execution_count": 7,
   "id": "9ed7d34c-cfb6-41ab-aa3f-d99109856228",
   "metadata": {},
   "outputs": [
    {
     "data": {
      "text/plain": [
       "{'message': 'Unable to find the requested resource'}"
      ]
     },
     "execution_count": 7,
     "metadata": {},
     "output_type": "execute_result"
    }
   ],
   "source": [
    "hubmapbags.apis.__query_hubmap_ids( 'AF', token )"
   ]
  },
  {
   "cell_type": "code",
   "execution_count": null,
   "id": "393689f2-f678-4aaa-b77d-d218e1695e80",
   "metadata": {},
   "outputs": [],
   "source": []
  }
 ],
 "metadata": {
  "kernelspec": {
   "display_name": "Python 3 (ipykernel)",
   "language": "python",
   "name": "python3"
  },
  "language_info": {
   "codemirror_mode": {
    "name": "ipython",
    "version": 3
   },
   "file_extension": ".py",
   "mimetype": "text/x-python",
   "name": "python",
   "nbconvert_exporter": "python",
   "pygments_lexer": "ipython3",
   "version": "3.9.7"
  }
 },
 "nbformat": 4,
 "nbformat_minor": 5
}
