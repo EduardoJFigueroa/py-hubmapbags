{
 "cells": [
  {
   "cell_type": "code",
   "execution_count": null,
   "id": "fb455d3e-0ac0-499d-b1df-44f39cf80eec",
   "metadata": {},
   "outputs": [],
   "source": [
    "%load_ext autoreload\n",
    "%autoreload 2\n",
    "\n",
    "import hubmapbags\n",
    "import pandas as pd\n",
    "import matplotlib.pyplot as plt\n",
    "from pathlib import Path\n",
    "from datetime import datetime\n",
    "import seaborn as sns\n",
    "import numpy as np"
   ]
  },
  {
   "cell_type": "code",
   "execution_count": null,
   "id": "52b95d25-83d3-406e-94fe-50d2ee68e43b",
   "metadata": {},
   "outputs": [],
   "source": [
    "token = 'TOKEN'\n",
    "hubmapbags.utilities.clean()\n",
    "hubmapbags.reports.daily(token=token)"
   ]
  },
  {
   "cell_type": "code",
   "execution_count": null,
   "id": "46d4647d-485e-42f3-b57a-9a911ec1b9b5",
   "metadata": {},
   "outputs": [],
   "source": [
    "#get daily report\n",
    "report_output_directory = \"daily-report\"\n",
    "if not Path(report_output_directory).exists():\n",
    "    Path(report_output_directory).mkdir()\n",
    "\n",
    "now = datetime.now()\n",
    "report_output_filename = f'{report_output_directory}/{str(now.strftime(\"%Y%m%d\"))}.tsv'\n",
    "print(report_output_filename)\n",
    "\n",
    "df = pd.read_csv(report_output_filename, sep=\"\\t\")"
   ]
  },
  {
   "cell_type": "code",
   "execution_count": null,
   "id": "c6a29676-b381-448f-8156-b9f12190180f",
   "metadata": {},
   "outputs": [],
   "source": [
    "#dataframe keys\n",
    "df.keys()"
   ]
  },
  {
   "cell_type": "markdown",
   "id": "c671f915-f77c-4669-8b5a-970c571d7c87",
   "metadata": {},
   "source": [
    "# Plots by Group Name"
   ]
  },
  {
   "cell_type": "code",
   "execution_count": null,
   "id": "1d6cdefd-676e-4c29-9243-d1fab9cbc140",
   "metadata": {},
   "outputs": [],
   "source": [
    "df['group_name'].unique()"
   ]
  },
  {
   "cell_type": "code",
   "execution_count": null,
   "id": "eff4a901-c827-4d4d-8e1c-2c42d6bb335b",
   "metadata": {},
   "outputs": [],
   "source": [
    "group = df.groupby(['group_name', 'status']).count()[['data_type']]\n",
    "print(group.to_markdown())"
   ]
  },
  {
   "cell_type": "code",
   "execution_count": null,
   "id": "38c5d5ed-5984-4634-89e1-b10da69ffdba",
   "metadata": {},
   "outputs": [],
   "source": [
    "hubmapbags.plots.by_group(df)"
   ]
  },
  {
   "cell_type": "markdown",
   "id": "9441df5e-cc6a-4cbe-a3c5-fa67af36a15e",
   "metadata": {},
   "source": [
    "# Plots by Data Type"
   ]
  },
  {
   "cell_type": "code",
   "execution_count": null,
   "id": "2975c877-8125-4ac2-b419-6263f599c623",
   "metadata": {},
   "outputs": [],
   "source": [
    "df['data_type'].unique()"
   ]
  },
  {
   "cell_type": "code",
   "execution_count": null,
   "id": "20f477d1-5e95-4f45-a1d9-4e89059bbc74",
   "metadata": {},
   "outputs": [],
   "source": [
    "data_type = df.groupby(['data_type', 'status']).count()\n",
    "data_type"
   ]
  },
  {
   "cell_type": "code",
   "execution_count": null,
   "id": "30e3ef50-19a4-43f3-86a1-4658255ae174",
   "metadata": {},
   "outputs": [],
   "source": [
    "df['status'].unique()"
   ]
  },
  {
   "cell_type": "code",
   "execution_count": null,
   "id": "115a4740-b89b-426e-ae4b-4187c4d86b49",
   "metadata": {},
   "outputs": [],
   "source": [
    "hubmapbags.plots.by_data_type(df)"
   ]
  },
  {
   "cell_type": "markdown",
   "id": "b9bbc3f9-e99e-483a-832d-ab43d2fd0fe7",
   "metadata": {},
   "source": [
    "# Plots by Date"
   ]
  },
  {
   "cell_type": "code",
   "execution_count": null,
   "id": "b148449d-b1ec-4709-b9d4-a2e4ec22790a",
   "metadata": {},
   "outputs": [],
   "source": [
    "hubmapbags.plots.by_date(df)"
   ]
  },
  {
   "cell_type": "code",
   "execution_count": null,
   "id": "022f9b9e-afc5-42f5-b249-3b784b7219ee",
   "metadata": {},
   "outputs": [],
   "source": []
  }
 ],
 "metadata": {
  "kernelspec": {
   "display_name": "Python 3 (ipykernel)",
   "language": "python",
   "name": "python3"
  },
  "language_info": {
   "codemirror_mode": {
    "name": "ipython",
    "version": 3
   },
   "file_extension": ".py",
   "mimetype": "text/x-python",
   "name": "python",
   "nbconvert_exporter": "python",
   "pygments_lexer": "ipython3",
   "version": "3.9.13"
  }
 },
 "nbformat": 4,
 "nbformat_minor": 5
}
