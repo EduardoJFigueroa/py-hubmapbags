{
 "cells": [
  {
   "cell_type": "markdown",
   "metadata": {},
   "source": [
    "# Generate protected-status report"
   ]
  },
  {
   "cell_type": "code",
   "execution_count": null,
   "metadata": {},
   "outputs": [],
   "source": [
    "import hubmapbags\n",
    "from datetime import datetime\n",
    "from pathlib import Path\n",
    "import pandas as pd\n",
    "from tqdm import tqdm\n",
    "from warnings import warn as warning\n",
    "\n",
    "token = ''\n",
    "instance = 'prod' #default instance is test"
   ]
  },
  {
   "cell_type": "code",
   "execution_count": null,
   "metadata": {},
   "outputs": [],
   "source": [
    "# get assay types\n",
    "assay_names = hubmapbags.get_assay_types()"
   ]
  },
  {
   "cell_type": "code",
   "execution_count": null,
   "metadata": {},
   "outputs": [],
   "source": [
    "report = pd.DataFrame()\n",
    "for assay_name in assay_names:\n",
    "    print(assay_name)\n",
    "    datasets = pd.DataFrame(hubmapbags.get_hubmap_ids( assay_name=assay_name, token=token ))\n",
    "\n",
    "    if datasets.empty:\n",
    "        continue\n",
    "    \n",
    "    #clean up\n",
    "    datasets = datasets[(datasets['data_type'] != 'image_pyramid')]\n",
    "    datasets = datasets[(datasets['status'] == 'Published')]\n",
    "    \n",
    "    datasets['is_protected'] = None\n",
    "    for index, datum in tqdm(datasets.iterrows()):\n",
    "        datasets.loc[index,'is_protected'] = hubmapbags.apis.is_protected( datum['hubmap_id'], instance='prod', token=token )\n",
    "    \n",
    "    if report.empty:\n",
    "        report = datasets\n",
    "    else:\n",
    "        report = pd.concat( [report, datasets] )"
   ]
  },
  {
   "cell_type": "code",
   "execution_count": null,
   "metadata": {},
   "outputs": [],
   "source": [
    "from datetime import datetime\n",
    "now = datetime.now() \n",
    "\n",
    "if not Path('protected-data-report').exists():\n",
    "    Path('protected-data-report').mkdir()\n",
    "report.to_csv('protected-data-report/' + str(now.strftime('%Y%m%d')) + '.tsv', sep='\\t', index=False )"
   ]
  }
 ],
 "metadata": {
  "kernelspec": {
   "display_name": "Python 3",
   "language": "python",
   "name": "python3"
  },
  "language_info": {
   "codemirror_mode": {
    "name": "ipython",
    "version": 3
   },
   "file_extension": ".py",
   "mimetype": "text/x-python",
   "name": "python",
   "nbconvert_exporter": "python",
   "pygments_lexer": "ipython3",
   "version": "3.8.5"
  }
 },
 "nbformat": 4,
 "nbformat_minor": 5
}
