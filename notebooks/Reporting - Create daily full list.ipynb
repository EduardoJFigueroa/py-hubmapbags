{
 "cells": [
  {
   "cell_type": "markdown",
   "id": "96452de8-689b-4c02-bc08-8cb07d1cae25",
   "metadata": {},
   "source": [
    "# Reporting\n",
    "## Create daily full list"
   ]
  },
  {
   "cell_type": "code",
   "execution_count": null,
   "id": "94a8e11f-b5d3-493f-b9a8-23086fd16781",
   "metadata": {},
   "outputs": [],
   "source": [
    "import pandas as pd\n",
    "from shutil import copytree\n",
    "from shutil import rmtree\n",
    "import hubmapbags\n",
    "import pathlib\n",
    "import json\n",
    "import yaml\n",
    "\n",
    "from pathlib import Path\n",
    "import pandas as pd\n",
    "from tqdm import tqdm\n",
    "from warnings import warn as warning\n",
    "from datetime import datetime\n",
    "from time import sleep\n",
    "from pandarallel import pandarallel\n",
    "pandarallel.initialize(progress_bar=True)\n",
    "\n",
    "instance = 'prod'\n",
    "token = ''"
   ]
  },
  {
   "cell_type": "code",
   "execution_count": null,
   "id": "4a08670c-0b75-4650-9e8f-0cb356140778",
   "metadata": {},
   "outputs": [],
   "source": [
    "assay_names = hubmapbags.apis.get_assay_types( token=token )\n",
    "print(assay_names)"
   ]
  },
  {
   "cell_type": "code",
   "execution_count": null,
   "id": "f68c3abb-7199-407d-8f9b-d30e50f148b7",
   "metadata": {},
   "outputs": [],
   "source": [
    "now = datetime.now()\n",
    "output_directory = '.data'\n",
    "if not Path(output_directory).exists():\n",
    "    Path(output_directory).mkdir()\n",
    "\n",
    "report_output_directory = 'daily-report'\n",
    "if not Path(report_output_directory).exists():\n",
    "    Path(report_output_directory).mkdir()\n",
    "\n",
    "report_output_filename = report_output_directory + '/' + str(now.strftime('%Y%m%d')) + '.tsv'\n",
    "print(report_output_filename)"
   ]
  },
  {
   "cell_type": "code",
   "execution_count": null,
   "id": "25909387-0815-4119-883b-bbc955a3b726",
   "metadata": {},
   "outputs": [],
   "source": [
    "def is_primary( hubmap_id, instance='prod', token=None ):\n",
    "    metadata = hubmapbags.apis.get_ancestors_info( hubmap_id, instance=instance, token=token )\n",
    "    if 'entity_type' in metadata[0].keys() and  metadata[0]['entity_type'] == 'Sample':\n",
    "        return True\n",
    "    else:\n",
    "        if 'error' in metadata[0]:\n",
    "            warning(metadata[0]['error'])\n",
    "        return False\n",
    "    \n",
    "def has_metadata( metadata ):\n",
    "    if 'ingest_metadata' in metadata.keys() and 'metadata' in metadata['ingest_metadata'].keys():\n",
    "        return True\n",
    "    else:\n",
    "        return False"
   ]
  },
  {
   "cell_type": "code",
   "execution_count": null,
   "id": "8953e377-85c5-486a-8c36-d816f9f03663",
   "metadata": {},
   "outputs": [],
   "source": [
    "if not Path(report_output_filename).exists():\n",
    "    # get assay types\n",
    "    assay_names = hubmapbags.apis.get_assay_types( token=token )\n",
    "    \n",
    "    report = pd.DataFrame()\n",
    "    for assay_name in assay_names:\n",
    "        datasets = pd.DataFrame(hubmapbags.get_ids( assay_name=assay_name, token=token ))\n",
    "        datasets['assay'] = assay_name\n",
    "\n",
    "        if datasets.empty:\n",
    "            continue\n",
    "            \n",
    "        report = pd.concat([report,datasets], axis=0)\n",
    "        \n",
    "        #for index, datum in tqdm(datasets.iterrows()):\n",
    "        #    datasets.loc[index, 'directory'] = hubmapbags.apis.get_directory( datum['hubmap_id'], instance='prod', token=token )\n",
    "        #    metadata = hubmapbags.apis.get_dataset_info( datum['hubmap_id'], instance='prod', token=token )\n",
    "            \n",
    "    #report = report[['group_name','uuid','hubmap_id','status','is_protected','data_type','assay_type','assay_category','directory']]\n",
    "    #report.to_csv( report_output_filename, sep='\\t', index=False )\n",
    "    #report.to_pickle( report_output_filename.replace('tsv','pkl') )\n",
    "else:\n",
    "    print('File found on disk. Loading ' + report_output_filename + '.' )\n",
    "    report = pd.read_pickle( report_output_filename.replace('tsv', 'pkl') )"
   ]
  },
  {
   "cell_type": "code",
   "execution_count": null,
   "id": "6cbfe0c1-9821-4bb2-9265-ed8b0f37a991",
   "metadata": {},
   "outputs": [],
   "source": [
    "            if has_metadata( metadata ):\n",
    "                datasets.loc['has_metadata'] = True\n",
    "                if 'ingest_metadata' in metadata.keys():\n",
    "                    datasets.loc[index,'assay_type'] = metadata['ingest_metadata']['metadata']['assay_type']\n",
    "                    datasets.loc[index,'assay_category'] = metadata['ingest_metadata']['metadata']['assay_category']\n",
    "                else:\n",
    "                    datasets.loc[index,'assay_type'] = None\n",
    "                    datasets.loc[index, 'assay_category'] = None\n",
    "            else:\n",
    "                datasets.loc['has_metadata'] = False\n",
    "            \n",
    "        report = pd.concat([report,datasets])\n",
    "    "
   ]
  },
  {
   "cell_type": "code",
   "execution_count": null,
   "id": "1b1f0854-dab1-48d1-8a92-980c855447f7",
   "metadata": {},
   "outputs": [],
   "source": [
    "def __get_directory( hubmap_id ):\n",
    "    try:\n",
    "        return hubmapbags.apis.get_directory( hubmap_id, instance='prod', token=token )\n",
    "    except:\n",
    "        return None\n",
    "    \n",
    "%time report['directory'] = report['hubmap_id'].parallel_apply(__get_directory)"
   ]
  },
  {
   "cell_type": "code",
   "execution_count": null,
   "id": "fbfb376c-13c7-485c-871d-bb63174e3a6c",
   "metadata": {},
   "outputs": [],
   "source": [
    "\n",
    "\n",
    "def __is_primary( hubmap_id ):\n",
    "    try:\n",
    "        return hubmapbags.apis.is_primary( hubmap_id, instance='prod', token=token )\n",
    "    except:\n",
    "        return None\n",
    "    \n",
    "%time report['directory'] = report['hubmap_id'].paralel_apply(__get_directory)"
   ]
  }
 ],
 "metadata": {
  "kernelspec": {
   "display_name": "Python 3 (ipykernel)",
   "language": "python",
   "name": "python3"
  },
  "language_info": {
   "codemirror_mode": {
    "name": "ipython",
    "version": 3
   },
   "file_extension": ".py",
   "mimetype": "text/x-python",
   "name": "python",
   "nbconvert_exporter": "python",
   "pygments_lexer": "ipython3",
   "version": "3.10.9"
  }
 },
 "nbformat": 4,
 "nbformat_minor": 5
}
