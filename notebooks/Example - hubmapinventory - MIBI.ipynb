{
 "cells": [
  {
   "cell_type": "markdown",
   "id": "58f29d56-0507-462e-b4d4-98e31823e425",
   "metadata": {},
   "source": [
    "# Example - hubmapinventory - MIBI"
   ]
  },
  {
   "cell_type": "code",
   "execution_count": null,
   "id": "e6d7695b-7fd1-4e89-9ce1-62f503225e49",
   "metadata": {},
   "outputs": [],
   "source": [
    "import pandas as pd\n",
    "from shutil import copytree\n",
    "from shutil import rmtree\n",
    "import hubmapbags\n",
    "import pathlib\n",
    "import json\n",
    "import shutil\n",
    "import yaml\n",
    "import hubmapinventory\n",
    "\n",
    "from pathlib import Path\n",
    "import pandas as pd\n",
    "from tqdm import tqdm\n",
    "from warnings import warn as warning\n",
    "from datetime import datetime\n",
    "from time import sleep\n",
    "from pandarallel import pandarallel\n",
    "\n",
    "instance = 'prod'\n",
    "token = ''\n",
    "ncores = 2\n",
    "pandarallel.initialize(progress_bar=True, nb_workers=ncores)"
   ]
  },
  {
   "cell_type": "code",
   "execution_count": null,
   "id": "7a111fe8-cee6-4a0e-b8ed-fd59d730ac61",
   "metadata": {},
   "outputs": [],
   "source": [
    "# just to list them all, not really needed\n",
    "assay_types = hubmapbags.apis.get_assay_types( token=token )\n",
    "print(assay_types)"
   ]
  },
  {
   "cell_type": "code",
   "execution_count": null,
   "id": "1caffff0-cbe8-42bc-8281-b56ff0605bee",
   "metadata": {},
   "outputs": [],
   "source": [
    "!find . -type f -name \"*.computing\" -exec rm -f {} \\;"
   ]
  },
  {
   "cell_type": "code",
   "execution_count": null,
   "id": "91238899-8727-492a-81fe-d029e618bdc2",
   "metadata": {},
   "outputs": [],
   "source": [
    "assay_types = ['MIBI']\n",
    "\n",
    "compute_uuids = True\n",
    "for assay_type in assay_types:\n",
    "    hubmapbags.utilities.pprint(assay_type)\n",
    "    print(\"Retrieving dataset IDs. This might take a while. Be patient.\")\n",
    "    datasets = hubmapbags.apis.get_hubmap_ids(assay_type, token=token)\n",
    "\n",
    "    for dataset in datasets:\n",
    "        if (\n",
    "            dataset[\"status\"] == \"Published\"\n",
    "            and dataset[\"is_primary\"]\n",
    "        ):\n",
    "            df = hubmapinventory.inventory.create(\n",
    "                dataset[\"hubmap_id\"],\n",
    "                token=token,\n",
    "                ncores=ncores,\n",
    "                compute_uuids=compute_uuids,\n",
    "                recompute_file_extension=True,\n",
    "            )\n",
    "        else:\n",
    "            print(f'Avoiding computation of dataset {dataset[\"hubmap_id\"]}({dataset[\"status\"]}).')"
   ]
  }
 ],
 "metadata": {
  "kernelspec": {
   "display_name": "Python 3 (ipykernel)",
   "language": "python",
   "name": "python3"
  },
  "language_info": {
   "codemirror_mode": {
    "name": "ipython",
    "version": 3
   },
   "file_extension": ".py",
   "mimetype": "text/x-python",
   "name": "python",
   "nbconvert_exporter": "python",
   "pygments_lexer": "ipython3",
   "version": "3.10.9"
  }
 },
 "nbformat": 4,
 "nbformat_minor": 5
}
